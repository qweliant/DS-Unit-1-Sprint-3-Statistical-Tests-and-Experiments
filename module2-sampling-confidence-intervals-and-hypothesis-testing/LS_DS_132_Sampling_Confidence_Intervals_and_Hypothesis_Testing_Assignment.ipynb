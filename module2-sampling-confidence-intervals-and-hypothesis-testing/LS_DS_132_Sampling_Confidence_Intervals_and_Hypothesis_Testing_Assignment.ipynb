{
  "nbformat": 4,
  "nbformat_minor": 0,
  "metadata": {
    "colab": {
      "name": "LS_DS_132_Sampling_Confidence_Intervals_and_Hypothesis_Testing_Assignment.ipynb",
      "provenance": [],
      "collapsed_sections": [],
      "include_colab_link": true
    },
    "kernelspec": {
      "name": "python3",
      "display_name": "Python 3"
    }
  },
  "cells": [
    {
      "cell_type": "markdown",
      "metadata": {
        "id": "view-in-github",
        "colab_type": "text"
      },
      "source": [
        "<a href=\"https://colab.research.google.com/github/qweliant/DS-Unit-1-Sprint-3-Statistical-Tests-and-Experiments/blob/master/module2-sampling-confidence-intervals-and-hypothesis-testing/LS_DS_132_Sampling_Confidence_Intervals_and_Hypothesis_Testing_Assignment.ipynb\" target=\"_parent\"><img src=\"https://colab.research.google.com/assets/colab-badge.svg\" alt=\"Open In Colab\"/></a>"
      ]
    },
    {
      "cell_type": "markdown",
      "metadata": {
        "id": "11OzdxWTM7UR",
        "colab_type": "text"
      },
      "source": [
        "## Assignment - Build a confidence interval\n",
        "\n",
        "A confidence interval refers to a neighborhood around some point estimate, the size of which is determined by the desired p-value. For instance, we might say that 52% of Americans prefer tacos to burritos, with a 95% confidence interval of +/- 5%.\n",
        "\n",
        "52% (0.52) is the point estimate, and +/- 5% (the interval $[0.47, 0.57]$) is the confidence interval. \"95% confidence\" means a p-value $\\leq 1 - 0.95 = 0.05$.\n",
        "\n",
        "In this case, the confidence interval includes $0.5$ - which is the natural null hypothesis (that half of Americans prefer tacos and half burritos, thus there is no clear favorite). So in this case, we could use the confidence interval to report that we've failed to reject the null hypothesis.\n",
        "\n",
        "But providing the full analysis with a confidence interval, including a graphical representation of it, can be a helpful and powerful way to tell your story. Done well, it is also more intuitive to a layperson than simply saying \"fail to reject the null hypothesis\" - it shows that in fact the data does *not* give a single clear result (the point estimate) but a whole range of possibilities.\n",
        "\n",
        "How is a confidence interval built, and how should it be interpreted? It does *not* mean that 95% of the data lies in that interval - instead, the frequentist interpretation is \"if we were to repeat this experiment 100 times, we would expect the average result to lie in this interval ~95 times.\"\n",
        "\n",
        "For a 95% confidence interval and a normal(-ish) distribution, you can simply remember that +/-2 standard deviations contains 95% of the probability mass, and so the 95% confidence interval based on a given sample is centered at the mean (point estimate) and has a range of +/- 2 (or technically 1.96) standard deviations.\n",
        "\n",
        "Different distributions/assumptions (90% confidence, 99% confidence) will require different math, but the overall process and interpretation (with a frequentist approach) will be the same.\n",
        "\n",
        "Your assignment - using the data from the prior module ([congressional voting records](https://archive.ics.uci.edu/ml/datasets/Congressional+Voting+Records)):\n",
        "\n",
        "\n",
        "### Confidence Intervals:\n",
        "1. Generate and numerically represent a confidence interval\n",
        "2. Graphically (with a plot) represent the confidence interval\n",
        "3. Interpret the confidence interval - what does it tell you about the data and its distribution?\n",
        "\n",
        "### Chi-squared tests:\n",
        "4. Take a dataset that we have used in the past in class that has **categorical** variables. Pick two of those categorical variables and run a chi-squared tests on that data\n",
        "  - By hand using Numpy\n",
        "  - In a single line using Scipy\n"
      ]
    },
    {
      "cell_type": "code",
      "metadata": {
        "id": "Ckcr4A4FM7cs",
        "colab_type": "code",
        "colab": {}
      },
      "source": [
        "# TODO - your code!\n",
        "import pandas as pd\n",
        "import matplotlib.pyplot as plt\n",
        "import numpy as np\n",
        "import scipy.stats as stats\n",
        "import seaborn as sns"
      ],
      "execution_count": 0,
      "outputs": []
    },
    {
      "cell_type": "code",
      "metadata": {
        "id": "9HwuWGm1hCoh",
        "colab_type": "code",
        "colab": {
          "base_uri": "https://localhost:8080/",
          "height": 208
        },
        "outputId": "2b9ebf9a-a756-420c-b131-b3f5b5835c6c"
      },
      "source": [
        "!wget https://archive.ics.uci.edu/ml/machine-learning-databases/voting-records/house-votes-84.data"
      ],
      "execution_count": 3,
      "outputs": [
        {
          "output_type": "stream",
          "text": [
            "--2019-09-18 12:21:09--  https://archive.ics.uci.edu/ml/machine-learning-databases/voting-records/house-votes-84.data\n",
            "Resolving archive.ics.uci.edu (archive.ics.uci.edu)... 128.195.10.252\n",
            "Connecting to archive.ics.uci.edu (archive.ics.uci.edu)|128.195.10.252|:443... connected.\n",
            "HTTP request sent, awaiting response... 200 OK\n",
            "Length: 18171 (18K) [application/x-httpd-php]\n",
            "Saving to: ‘house-votes-84.data’\n",
            "\n",
            "\rhouse-votes-84.data   0%[                    ]       0  --.-KB/s               \rhouse-votes-84.data 100%[===================>]  17.75K  --.-KB/s    in 0.06s   \n",
            "\n",
            "2019-09-18 12:21:10 (286 KB/s) - ‘house-votes-84.data’ saved [18171/18171]\n",
            "\n"
          ],
          "name": "stdout"
        }
      ]
    },
    {
      "cell_type": "code",
      "metadata": {
        "id": "FzMu6FFRh0pE",
        "colab_type": "code",
        "colab": {
          "base_uri": "https://localhost:8080/",
          "height": 34
        },
        "outputId": "aa28b48f-1f53-4f1e-8389-cce9b990ccf1"
      },
      "source": [
        "# Load Data\n",
        "df = pd.read_csv('house-votes-84.data', \n",
        "                 header=None,\n",
        "                 names=['party','handicapped-infants','water-project',\n",
        "                          'budget','physician-fee-freeze', 'el-salvador-aid',\n",
        "                          'religious-groups','anti-satellite-ban',\n",
        "                          'aid-to-contras','mx-missile','immigration',\n",
        "                          'synfuels', 'education', 'right-to-sue','crime','duty-free',\n",
        "                          'south-africa'])\n",
        "print(df.shape)"
      ],
      "execution_count": 4,
      "outputs": [
        {
          "output_type": "stream",
          "text": [
            "(435, 17)\n"
          ],
          "name": "stdout"
        }
      ]
    },
    {
      "cell_type": "code",
      "metadata": {
        "id": "A5nLs0B8h4W8",
        "colab_type": "code",
        "colab": {
          "base_uri": "https://localhost:8080/",
          "height": 241
        },
        "outputId": "7c6c0272-7b90-4d45-d906-32ab4878d4d5"
      },
      "source": [
        "df = df.replace({'?':np.NaN, 'n':0, 'y':1}) #use this to create bool table\n",
        "\n",
        "df.head()"
      ],
      "execution_count": 5,
      "outputs": [
        {
          "output_type": "execute_result",
          "data": {
            "text/html": [
              "<div>\n",
              "<style scoped>\n",
              "    .dataframe tbody tr th:only-of-type {\n",
              "        vertical-align: middle;\n",
              "    }\n",
              "\n",
              "    .dataframe tbody tr th {\n",
              "        vertical-align: top;\n",
              "    }\n",
              "\n",
              "    .dataframe thead th {\n",
              "        text-align: right;\n",
              "    }\n",
              "</style>\n",
              "<table border=\"1\" class=\"dataframe\">\n",
              "  <thead>\n",
              "    <tr style=\"text-align: right;\">\n",
              "      <th></th>\n",
              "      <th>party</th>\n",
              "      <th>handicapped-infants</th>\n",
              "      <th>water-project</th>\n",
              "      <th>budget</th>\n",
              "      <th>physician-fee-freeze</th>\n",
              "      <th>el-salvador-aid</th>\n",
              "      <th>religious-groups</th>\n",
              "      <th>anti-satellite-ban</th>\n",
              "      <th>aid-to-contras</th>\n",
              "      <th>mx-missile</th>\n",
              "      <th>immigration</th>\n",
              "      <th>synfuels</th>\n",
              "      <th>education</th>\n",
              "      <th>right-to-sue</th>\n",
              "      <th>crime</th>\n",
              "      <th>duty-free</th>\n",
              "      <th>south-africa</th>\n",
              "    </tr>\n",
              "  </thead>\n",
              "  <tbody>\n",
              "    <tr>\n",
              "      <th>0</th>\n",
              "      <td>republican</td>\n",
              "      <td>0.0</td>\n",
              "      <td>1.0</td>\n",
              "      <td>0.0</td>\n",
              "      <td>1.0</td>\n",
              "      <td>1.0</td>\n",
              "      <td>1.0</td>\n",
              "      <td>0.0</td>\n",
              "      <td>0.0</td>\n",
              "      <td>0.0</td>\n",
              "      <td>1.0</td>\n",
              "      <td>NaN</td>\n",
              "      <td>1.0</td>\n",
              "      <td>1.0</td>\n",
              "      <td>1.0</td>\n",
              "      <td>0.0</td>\n",
              "      <td>1.0</td>\n",
              "    </tr>\n",
              "    <tr>\n",
              "      <th>1</th>\n",
              "      <td>republican</td>\n",
              "      <td>0.0</td>\n",
              "      <td>1.0</td>\n",
              "      <td>0.0</td>\n",
              "      <td>1.0</td>\n",
              "      <td>1.0</td>\n",
              "      <td>1.0</td>\n",
              "      <td>0.0</td>\n",
              "      <td>0.0</td>\n",
              "      <td>0.0</td>\n",
              "      <td>0.0</td>\n",
              "      <td>0.0</td>\n",
              "      <td>1.0</td>\n",
              "      <td>1.0</td>\n",
              "      <td>1.0</td>\n",
              "      <td>0.0</td>\n",
              "      <td>NaN</td>\n",
              "    </tr>\n",
              "    <tr>\n",
              "      <th>2</th>\n",
              "      <td>democrat</td>\n",
              "      <td>NaN</td>\n",
              "      <td>1.0</td>\n",
              "      <td>1.0</td>\n",
              "      <td>NaN</td>\n",
              "      <td>1.0</td>\n",
              "      <td>1.0</td>\n",
              "      <td>0.0</td>\n",
              "      <td>0.0</td>\n",
              "      <td>0.0</td>\n",
              "      <td>0.0</td>\n",
              "      <td>1.0</td>\n",
              "      <td>0.0</td>\n",
              "      <td>1.0</td>\n",
              "      <td>1.0</td>\n",
              "      <td>0.0</td>\n",
              "      <td>0.0</td>\n",
              "    </tr>\n",
              "    <tr>\n",
              "      <th>3</th>\n",
              "      <td>democrat</td>\n",
              "      <td>0.0</td>\n",
              "      <td>1.0</td>\n",
              "      <td>1.0</td>\n",
              "      <td>0.0</td>\n",
              "      <td>NaN</td>\n",
              "      <td>1.0</td>\n",
              "      <td>0.0</td>\n",
              "      <td>0.0</td>\n",
              "      <td>0.0</td>\n",
              "      <td>0.0</td>\n",
              "      <td>1.0</td>\n",
              "      <td>0.0</td>\n",
              "      <td>1.0</td>\n",
              "      <td>0.0</td>\n",
              "      <td>0.0</td>\n",
              "      <td>1.0</td>\n",
              "    </tr>\n",
              "    <tr>\n",
              "      <th>4</th>\n",
              "      <td>democrat</td>\n",
              "      <td>1.0</td>\n",
              "      <td>1.0</td>\n",
              "      <td>1.0</td>\n",
              "      <td>0.0</td>\n",
              "      <td>1.0</td>\n",
              "      <td>1.0</td>\n",
              "      <td>0.0</td>\n",
              "      <td>0.0</td>\n",
              "      <td>0.0</td>\n",
              "      <td>0.0</td>\n",
              "      <td>1.0</td>\n",
              "      <td>NaN</td>\n",
              "      <td>1.0</td>\n",
              "      <td>1.0</td>\n",
              "      <td>1.0</td>\n",
              "      <td>1.0</td>\n",
              "    </tr>\n",
              "  </tbody>\n",
              "</table>\n",
              "</div>"
            ],
            "text/plain": [
              "        party  handicapped-infants  ...  duty-free  south-africa\n",
              "0  republican                  0.0  ...        0.0           1.0\n",
              "1  republican                  0.0  ...        0.0           NaN\n",
              "2    democrat                  NaN  ...        0.0           0.0\n",
              "3    democrat                  0.0  ...        0.0           1.0\n",
              "4    democrat                  1.0  ...        1.0           1.0\n",
              "\n",
              "[5 rows x 17 columns]"
            ]
          },
          "metadata": {
            "tags": []
          },
          "execution_count": 5
        }
      ]
    },
    {
      "cell_type": "code",
      "metadata": {
        "id": "jJkuPyKDiHGl",
        "colab_type": "code",
        "colab": {}
      },
      "source": [
        "dem = df[df['party'] == 'democrat']\n",
        "rep = df[df['party'] == 'republican']"
      ],
      "execution_count": 0,
      "outputs": []
    },
    {
      "cell_type": "code",
      "metadata": {
        "id": "-q0y0-i-iJ13",
        "colab_type": "code",
        "colab": {
          "base_uri": "https://localhost:8080/",
          "height": 241
        },
        "outputId": "ce980b6f-3cd7-4895-a394-728d2666b61a"
      },
      "source": [
        "dem.head()"
      ],
      "execution_count": 7,
      "outputs": [
        {
          "output_type": "execute_result",
          "data": {
            "text/html": [
              "<div>\n",
              "<style scoped>\n",
              "    .dataframe tbody tr th:only-of-type {\n",
              "        vertical-align: middle;\n",
              "    }\n",
              "\n",
              "    .dataframe tbody tr th {\n",
              "        vertical-align: top;\n",
              "    }\n",
              "\n",
              "    .dataframe thead th {\n",
              "        text-align: right;\n",
              "    }\n",
              "</style>\n",
              "<table border=\"1\" class=\"dataframe\">\n",
              "  <thead>\n",
              "    <tr style=\"text-align: right;\">\n",
              "      <th></th>\n",
              "      <th>party</th>\n",
              "      <th>handicapped-infants</th>\n",
              "      <th>water-project</th>\n",
              "      <th>budget</th>\n",
              "      <th>physician-fee-freeze</th>\n",
              "      <th>el-salvador-aid</th>\n",
              "      <th>religious-groups</th>\n",
              "      <th>anti-satellite-ban</th>\n",
              "      <th>aid-to-contras</th>\n",
              "      <th>mx-missile</th>\n",
              "      <th>immigration</th>\n",
              "      <th>synfuels</th>\n",
              "      <th>education</th>\n",
              "      <th>right-to-sue</th>\n",
              "      <th>crime</th>\n",
              "      <th>duty-free</th>\n",
              "      <th>south-africa</th>\n",
              "    </tr>\n",
              "  </thead>\n",
              "  <tbody>\n",
              "    <tr>\n",
              "      <th>2</th>\n",
              "      <td>democrat</td>\n",
              "      <td>NaN</td>\n",
              "      <td>1.0</td>\n",
              "      <td>1.0</td>\n",
              "      <td>NaN</td>\n",
              "      <td>1.0</td>\n",
              "      <td>1.0</td>\n",
              "      <td>0.0</td>\n",
              "      <td>0.0</td>\n",
              "      <td>0.0</td>\n",
              "      <td>0.0</td>\n",
              "      <td>1.0</td>\n",
              "      <td>0.0</td>\n",
              "      <td>1.0</td>\n",
              "      <td>1.0</td>\n",
              "      <td>0.0</td>\n",
              "      <td>0.0</td>\n",
              "    </tr>\n",
              "    <tr>\n",
              "      <th>3</th>\n",
              "      <td>democrat</td>\n",
              "      <td>0.0</td>\n",
              "      <td>1.0</td>\n",
              "      <td>1.0</td>\n",
              "      <td>0.0</td>\n",
              "      <td>NaN</td>\n",
              "      <td>1.0</td>\n",
              "      <td>0.0</td>\n",
              "      <td>0.0</td>\n",
              "      <td>0.0</td>\n",
              "      <td>0.0</td>\n",
              "      <td>1.0</td>\n",
              "      <td>0.0</td>\n",
              "      <td>1.0</td>\n",
              "      <td>0.0</td>\n",
              "      <td>0.0</td>\n",
              "      <td>1.0</td>\n",
              "    </tr>\n",
              "    <tr>\n",
              "      <th>4</th>\n",
              "      <td>democrat</td>\n",
              "      <td>1.0</td>\n",
              "      <td>1.0</td>\n",
              "      <td>1.0</td>\n",
              "      <td>0.0</td>\n",
              "      <td>1.0</td>\n",
              "      <td>1.0</td>\n",
              "      <td>0.0</td>\n",
              "      <td>0.0</td>\n",
              "      <td>0.0</td>\n",
              "      <td>0.0</td>\n",
              "      <td>1.0</td>\n",
              "      <td>NaN</td>\n",
              "      <td>1.0</td>\n",
              "      <td>1.0</td>\n",
              "      <td>1.0</td>\n",
              "      <td>1.0</td>\n",
              "    </tr>\n",
              "    <tr>\n",
              "      <th>5</th>\n",
              "      <td>democrat</td>\n",
              "      <td>0.0</td>\n",
              "      <td>1.0</td>\n",
              "      <td>1.0</td>\n",
              "      <td>0.0</td>\n",
              "      <td>1.0</td>\n",
              "      <td>1.0</td>\n",
              "      <td>0.0</td>\n",
              "      <td>0.0</td>\n",
              "      <td>0.0</td>\n",
              "      <td>0.0</td>\n",
              "      <td>0.0</td>\n",
              "      <td>0.0</td>\n",
              "      <td>1.0</td>\n",
              "      <td>1.0</td>\n",
              "      <td>1.0</td>\n",
              "      <td>1.0</td>\n",
              "    </tr>\n",
              "    <tr>\n",
              "      <th>6</th>\n",
              "      <td>democrat</td>\n",
              "      <td>0.0</td>\n",
              "      <td>1.0</td>\n",
              "      <td>0.0</td>\n",
              "      <td>1.0</td>\n",
              "      <td>1.0</td>\n",
              "      <td>1.0</td>\n",
              "      <td>0.0</td>\n",
              "      <td>0.0</td>\n",
              "      <td>0.0</td>\n",
              "      <td>0.0</td>\n",
              "      <td>0.0</td>\n",
              "      <td>0.0</td>\n",
              "      <td>NaN</td>\n",
              "      <td>1.0</td>\n",
              "      <td>1.0</td>\n",
              "      <td>1.0</td>\n",
              "    </tr>\n",
              "  </tbody>\n",
              "</table>\n",
              "</div>"
            ],
            "text/plain": [
              "      party  handicapped-infants  water-project  ...  crime  duty-free  south-africa\n",
              "2  democrat                  NaN            1.0  ...    1.0        0.0           0.0\n",
              "3  democrat                  0.0            1.0  ...    0.0        0.0           1.0\n",
              "4  democrat                  1.0            1.0  ...    1.0        1.0           1.0\n",
              "5  democrat                  0.0            1.0  ...    1.0        1.0           1.0\n",
              "6  democrat                  0.0            1.0  ...    1.0        1.0           1.0\n",
              "\n",
              "[5 rows x 17 columns]"
            ]
          },
          "metadata": {
            "tags": []
          },
          "execution_count": 7
        }
      ]
    },
    {
      "cell_type": "code",
      "metadata": {
        "id": "845LBYiqiMmg",
        "colab_type": "code",
        "colab": {
          "base_uri": "https://localhost:8080/",
          "height": 241
        },
        "outputId": "ba743ef0-3540-494f-f64b-1995625eca48"
      },
      "source": [
        "rep.head()"
      ],
      "execution_count": 8,
      "outputs": [
        {
          "output_type": "execute_result",
          "data": {
            "text/html": [
              "<div>\n",
              "<style scoped>\n",
              "    .dataframe tbody tr th:only-of-type {\n",
              "        vertical-align: middle;\n",
              "    }\n",
              "\n",
              "    .dataframe tbody tr th {\n",
              "        vertical-align: top;\n",
              "    }\n",
              "\n",
              "    .dataframe thead th {\n",
              "        text-align: right;\n",
              "    }\n",
              "</style>\n",
              "<table border=\"1\" class=\"dataframe\">\n",
              "  <thead>\n",
              "    <tr style=\"text-align: right;\">\n",
              "      <th></th>\n",
              "      <th>party</th>\n",
              "      <th>handicapped-infants</th>\n",
              "      <th>water-project</th>\n",
              "      <th>budget</th>\n",
              "      <th>physician-fee-freeze</th>\n",
              "      <th>el-salvador-aid</th>\n",
              "      <th>religious-groups</th>\n",
              "      <th>anti-satellite-ban</th>\n",
              "      <th>aid-to-contras</th>\n",
              "      <th>mx-missile</th>\n",
              "      <th>immigration</th>\n",
              "      <th>synfuels</th>\n",
              "      <th>education</th>\n",
              "      <th>right-to-sue</th>\n",
              "      <th>crime</th>\n",
              "      <th>duty-free</th>\n",
              "      <th>south-africa</th>\n",
              "    </tr>\n",
              "  </thead>\n",
              "  <tbody>\n",
              "    <tr>\n",
              "      <th>0</th>\n",
              "      <td>republican</td>\n",
              "      <td>0.0</td>\n",
              "      <td>1.0</td>\n",
              "      <td>0.0</td>\n",
              "      <td>1.0</td>\n",
              "      <td>1.0</td>\n",
              "      <td>1.0</td>\n",
              "      <td>0.0</td>\n",
              "      <td>0.0</td>\n",
              "      <td>0.0</td>\n",
              "      <td>1.0</td>\n",
              "      <td>NaN</td>\n",
              "      <td>1.0</td>\n",
              "      <td>1.0</td>\n",
              "      <td>1.0</td>\n",
              "      <td>0.0</td>\n",
              "      <td>1.0</td>\n",
              "    </tr>\n",
              "    <tr>\n",
              "      <th>1</th>\n",
              "      <td>republican</td>\n",
              "      <td>0.0</td>\n",
              "      <td>1.0</td>\n",
              "      <td>0.0</td>\n",
              "      <td>1.0</td>\n",
              "      <td>1.0</td>\n",
              "      <td>1.0</td>\n",
              "      <td>0.0</td>\n",
              "      <td>0.0</td>\n",
              "      <td>0.0</td>\n",
              "      <td>0.0</td>\n",
              "      <td>0.0</td>\n",
              "      <td>1.0</td>\n",
              "      <td>1.0</td>\n",
              "      <td>1.0</td>\n",
              "      <td>0.0</td>\n",
              "      <td>NaN</td>\n",
              "    </tr>\n",
              "    <tr>\n",
              "      <th>7</th>\n",
              "      <td>republican</td>\n",
              "      <td>0.0</td>\n",
              "      <td>1.0</td>\n",
              "      <td>0.0</td>\n",
              "      <td>1.0</td>\n",
              "      <td>1.0</td>\n",
              "      <td>1.0</td>\n",
              "      <td>0.0</td>\n",
              "      <td>0.0</td>\n",
              "      <td>0.0</td>\n",
              "      <td>0.0</td>\n",
              "      <td>0.0</td>\n",
              "      <td>0.0</td>\n",
              "      <td>1.0</td>\n",
              "      <td>1.0</td>\n",
              "      <td>NaN</td>\n",
              "      <td>1.0</td>\n",
              "    </tr>\n",
              "    <tr>\n",
              "      <th>8</th>\n",
              "      <td>republican</td>\n",
              "      <td>0.0</td>\n",
              "      <td>1.0</td>\n",
              "      <td>0.0</td>\n",
              "      <td>1.0</td>\n",
              "      <td>1.0</td>\n",
              "      <td>1.0</td>\n",
              "      <td>0.0</td>\n",
              "      <td>0.0</td>\n",
              "      <td>0.0</td>\n",
              "      <td>0.0</td>\n",
              "      <td>0.0</td>\n",
              "      <td>1.0</td>\n",
              "      <td>1.0</td>\n",
              "      <td>1.0</td>\n",
              "      <td>0.0</td>\n",
              "      <td>1.0</td>\n",
              "    </tr>\n",
              "    <tr>\n",
              "      <th>10</th>\n",
              "      <td>republican</td>\n",
              "      <td>0.0</td>\n",
              "      <td>1.0</td>\n",
              "      <td>0.0</td>\n",
              "      <td>1.0</td>\n",
              "      <td>1.0</td>\n",
              "      <td>0.0</td>\n",
              "      <td>0.0</td>\n",
              "      <td>0.0</td>\n",
              "      <td>0.0</td>\n",
              "      <td>0.0</td>\n",
              "      <td>NaN</td>\n",
              "      <td>NaN</td>\n",
              "      <td>1.0</td>\n",
              "      <td>1.0</td>\n",
              "      <td>0.0</td>\n",
              "      <td>0.0</td>\n",
              "    </tr>\n",
              "  </tbody>\n",
              "</table>\n",
              "</div>"
            ],
            "text/plain": [
              "         party  handicapped-infants  ...  duty-free  south-africa\n",
              "0   republican                  0.0  ...        0.0           1.0\n",
              "1   republican                  0.0  ...        0.0           NaN\n",
              "7   republican                  0.0  ...        NaN           1.0\n",
              "8   republican                  0.0  ...        0.0           1.0\n",
              "10  republican                  0.0  ...        0.0           0.0\n",
              "\n",
              "[5 rows x 17 columns]"
            ]
          },
          "metadata": {
            "tags": []
          },
          "execution_count": 8
        }
      ]
    },
    {
      "cell_type": "code",
      "metadata": {
        "id": "0QuixDlBm4nO",
        "colab_type": "code",
        "colab": {
          "base_uri": "https://localhost:8080/",
          "height": 295
        },
        "outputId": "35c15949-8ec3-4ed1-d8ca-6084973ab96d"
      },
      "source": [
        "cols = list(rep.columns)\n",
        "cols.remove('party')\n",
        "cols"
      ],
      "execution_count": 9,
      "outputs": [
        {
          "output_type": "execute_result",
          "data": {
            "text/plain": [
              "['handicapped-infants',\n",
              " 'water-project',\n",
              " 'budget',\n",
              " 'physician-fee-freeze',\n",
              " 'el-salvador-aid',\n",
              " 'religious-groups',\n",
              " 'anti-satellite-ban',\n",
              " 'aid-to-contras',\n",
              " 'mx-missile',\n",
              " 'immigration',\n",
              " 'synfuels',\n",
              " 'education',\n",
              " 'right-to-sue',\n",
              " 'crime',\n",
              " 'duty-free',\n",
              " 'south-africa']"
            ]
          },
          "metadata": {
            "tags": []
          },
          "execution_count": 9
        }
      ]
    },
    {
      "cell_type": "code",
      "metadata": {
        "id": "8Tq69icxiw6d",
        "colab_type": "code",
        "colab": {}
      },
      "source": [
        "party_stats = {} # creates a empty dictionary\n",
        "for party in ['democrat', 'republican']:\n",
        "    party_data = df[df['party']==party]\n",
        "    party_stats[party] = {'means': [], 'confidence_intervals': [], 'standard_errors': [], 'margins_of_error': []}\n",
        "\t\n",
        "    for c in cols:\n",
        "        n = party_data[c].count()\n",
        "        dof = n - 1\n",
        "        mean = party_data[c].mean()\n",
        "        std_err = np.std(party_data[c],ddof=1) / np.sqrt(n)\n",
        "        confidence_interval = stats.t.interval(0.95, dof, loc=mean, scale=std_err)\n",
        "        margin_of_error = std_err * stats.t.ppf(0.975, dof)\n",
        "        party_stats[party]['means'].append(mean)\n",
        "        party_stats[party]['confidence_intervals'].append(confidence_interval)\n",
        "        party_stats[party]['margins_of_error'].append(margin_of_error)\n",
        "        party_stats[party]['standard_errors'].append(std_err)"
      ],
      "execution_count": 0,
      "outputs": []
    },
    {
      "cell_type": "code",
      "metadata": {
        "id": "gCE1k1iuCdZl",
        "colab_type": "code",
        "colab": {
          "base_uri": "https://localhost:8080/",
          "height": 387
        },
        "outputId": "7a99cd2e-2ec9-4cc6-f24b-2fb30eb3808a"
      },
      "source": [
        "x = np.arange(len(cols))\n",
        "width = 0.3\n",
        "\n",
        "plt.bar(x-width/2, party_stats['democrat']['means'], \n",
        "           width=width, yerr=party_stats['democrat']['margins_of_error'],\n",
        "           color='blue', ecolor='black', label='Democrats' )\n",
        "\n",
        "plt.bar(x+width/2, party_stats['republican']['means'], \n",
        "           width=width, yerr=party_stats['republican']['margins_of_error'],\n",
        "           color='red', ecolor='black', label='Republican' )\n",
        "\n",
        "\n",
        "plt.ylabel('Point Estimate of Votes')\n",
        "plt.xlabel('Issue')\n",
        "plt.title('House Votes on Various Bills')\n",
        "plt.legend()\n",
        "plt.xticks(x, cols[1:], rotation='vertical')\n",
        "plt.show()"
      ],
      "execution_count": 11,
      "outputs": [
        {
          "output_type": "display_data",
          "data": {
            "image/png": "[encoded data removed]",
            "text/plain": [
              "<Figure size 432x288 with 1 Axes>"
            ]
          },
          "metadata": {
            "tags": []
          }
        }
      ]
    },
    {
      "cell_type": "markdown",
      "metadata": {
        "id": "iwAPU36uNIsz",
        "colab_type": "text"
      },
      "source": [
        "# Chi Sqaured Test"
      ]
    },
    {
      "cell_type": "code",
      "metadata": {
        "id": "54dmPJ2PJbdf",
        "colab_type": "code",
        "colab": {
          "base_uri": "https://localhost:8080/",
          "height": 556
        },
        "outputId": "65aad4a3-a085-4820-ac25-356aa0532900"
      },
      "source": [
        "df = pd.read_csv('https://raw.githubusercontent.com/qweliant/GenderAndSex/master/green/pcs.csv?token=AII7DUISBJZ7Z4OWI7VPLG25RLI7K', na_values=\" ?\")\n",
        "print(df.shape)\n",
        "df.head()"
      ],
      "execution_count": 12,
      "outputs": [
        {
          "output_type": "stream",
          "text": [
            "(179096, 67)\n"
          ],
          "name": "stdout"
        },
        {
          "output_type": "execute_result",
          "data": {
            "text/html": [
              "<div>\n",
              "<style scoped>\n",
              "    .dataframe tbody tr th:only-of-type {\n",
              "        vertical-align: middle;\n",
              "    }\n",
              "\n",
              "    .dataframe tbody tr th {\n",
              "        vertical-align: top;\n",
              "    }\n",
              "\n",
              "    .dataframe thead th {\n",
              "        text-align: right;\n",
              "    }\n",
              "</style>\n",
              "<table border=\"1\" class=\"dataframe\">\n",
              "  <thead>\n",
              "    <tr style=\"text-align: right;\">\n",
              "      <th></th>\n",
              "      <th>Survey Year</th>\n",
              "      <th>Program Category</th>\n",
              "      <th>Region Served</th>\n",
              "      <th>Age Group</th>\n",
              "      <th>Sex</th>\n",
              "      <th>Transgender</th>\n",
              "      <th>Sexual Orientation</th>\n",
              "      <th>Hispanic Ethnicity</th>\n",
              "      <th>Race</th>\n",
              "      <th>Living Situation</th>\n",
              "      <th>Household Composition</th>\n",
              "      <th>Preferred Language</th>\n",
              "      <th>Veteran Status</th>\n",
              "      <th>Employment Status</th>\n",
              "      <th>Number Of Hours Worked Each Week</th>\n",
              "      <th>Education Status</th>\n",
              "      <th>Special Education Services</th>\n",
              "      <th>Mental Illness</th>\n",
              "      <th>Intellectual Disability</th>\n",
              "      <th>Autism Spectrum</th>\n",
              "      <th>Other Developmental Disability</th>\n",
              "      <th>Alcohol Related Disorder</th>\n",
              "      <th>Drug Substance Disorder</th>\n",
              "      <th>Mobility Impairment Disorder</th>\n",
              "      <th>Hearing Visual Impairment</th>\n",
              "      <th>Hyperlipidemia</th>\n",
              "      <th>High Blood Pressure</th>\n",
              "      <th>Diabetes</th>\n",
              "      <th>Obesity</th>\n",
              "      <th>Heart Attack</th>\n",
              "      <th>Stroke</th>\n",
              "      <th>Other Cardiac</th>\n",
              "      <th>Pulmonary Asthma</th>\n",
              "      <th>Alzheimer or Dementia</th>\n",
              "      <th>Kidney Disease</th>\n",
              "      <th>Liver Disease</th>\n",
              "      <th>Endocrine Condition</th>\n",
              "      <th>Neurological Condition</th>\n",
              "      <th>Traumatic Brain Injury</th>\n",
              "      <th>Joint Disease</th>\n",
              "      <th>Cancer</th>\n",
              "      <th>Other Chronic Med Condition</th>\n",
              "      <th>No Chronic Med Condition</th>\n",
              "      <th>Unknown Chronic Med Condition</th>\n",
              "      <th>Smokes</th>\n",
              "      <th>Received Smoking Medication</th>\n",
              "      <th>Received Smoking Counseling</th>\n",
              "      <th>Serious Mental Illness</th>\n",
              "      <th>Principal Diagnosis Class</th>\n",
              "      <th>Additional Diagnosis Class</th>\n",
              "      <th>SSI Cash Assistance</th>\n",
              "      <th>SSDI Cash Assistance</th>\n",
              "      <th>Veterans Disability Benefits</th>\n",
              "      <th>Veterans Cash Assistance</th>\n",
              "      <th>Public Assistance Cash Program</th>\n",
              "      <th>Other Cash Benefits</th>\n",
              "      <th>Medicaid and Medicare Insurance</th>\n",
              "      <th>No Insurance</th>\n",
              "      <th>Unknown Insurance Coverage</th>\n",
              "      <th>Medicaid Insurance</th>\n",
              "      <th>Medicaid Managed Insurance</th>\n",
              "      <th>Medicare Insurance</th>\n",
              "      <th>Private Insurance</th>\n",
              "      <th>Child Health Plus Insurance</th>\n",
              "      <th>Other Insurance</th>\n",
              "      <th>Criminal Justice Status</th>\n",
              "      <th>Three Digit Residence Zip Code</th>\n",
              "    </tr>\n",
              "  </thead>\n",
              "  <tbody>\n",
              "    <tr>\n",
              "      <th>0</th>\n",
              "      <td>2015</td>\n",
              "      <td>INPATIENT</td>\n",
              "      <td>HUDSON RIVER REGION</td>\n",
              "      <td>ADULT</td>\n",
              "      <td>MALE</td>\n",
              "      <td>NO, NOT TRANSGENDER</td>\n",
              "      <td>STRAIGHT OR HETEROSEXUAL</td>\n",
              "      <td>YES</td>\n",
              "      <td>OTHER</td>\n",
              "      <td>OTHER LIVING SITUATION</td>\n",
              "      <td>NOT APPLICABLE</td>\n",
              "      <td>ENGLISH</td>\n",
              "      <td>NO</td>\n",
              "      <td>NOT IN LABOR FORCE:UNEMPLOYED AND NOT LOOKING ...</td>\n",
              "      <td>NOT APPLICABLE</td>\n",
              "      <td>MIDDLE SCHOOL TO HIGH SCHOOL</td>\n",
              "      <td>NOT APPLICABLE</td>\n",
              "      <td>YES</td>\n",
              "      <td>NO</td>\n",
              "      <td>NO</td>\n",
              "      <td>NO</td>\n",
              "      <td>YES</td>\n",
              "      <td>YES</td>\n",
              "      <td>NO</td>\n",
              "      <td>NO</td>\n",
              "      <td>NO</td>\n",
              "      <td>NO</td>\n",
              "      <td>NO</td>\n",
              "      <td>NO</td>\n",
              "      <td>NO</td>\n",
              "      <td>NO</td>\n",
              "      <td>NO</td>\n",
              "      <td>YES</td>\n",
              "      <td>NO</td>\n",
              "      <td>NO</td>\n",
              "      <td>NO</td>\n",
              "      <td>NO</td>\n",
              "      <td>NO</td>\n",
              "      <td>NO</td>\n",
              "      <td>NO</td>\n",
              "      <td>NO</td>\n",
              "      <td>NO</td>\n",
              "      <td>NO</td>\n",
              "      <td>NO</td>\n",
              "      <td>NO</td>\n",
              "      <td>NO</td>\n",
              "      <td>NO</td>\n",
              "      <td>YES</td>\n",
              "      <td>MENTAL ILLNESS</td>\n",
              "      <td>UNKNOWN</td>\n",
              "      <td>NO</td>\n",
              "      <td>NO</td>\n",
              "      <td>NO</td>\n",
              "      <td>NO</td>\n",
              "      <td>NO</td>\n",
              "      <td>NO</td>\n",
              "      <td>NO</td>\n",
              "      <td>NO</td>\n",
              "      <td>NO</td>\n",
              "      <td>YES</td>\n",
              "      <td>NO</td>\n",
              "      <td>NO</td>\n",
              "      <td>NO</td>\n",
              "      <td>NO</td>\n",
              "      <td>NO</td>\n",
              "      <td>YES</td>\n",
              "      <td>113</td>\n",
              "    </tr>\n",
              "    <tr>\n",
              "      <th>1</th>\n",
              "      <td>2015</td>\n",
              "      <td>INPATIENT</td>\n",
              "      <td>NEW YORK CITY REGION</td>\n",
              "      <td>ADULT</td>\n",
              "      <td>MALE</td>\n",
              "      <td>NO, NOT TRANSGENDER</td>\n",
              "      <td>STRAIGHT OR HETEROSEXUAL</td>\n",
              "      <td>NO, NOT HISPANIC/LATINO</td>\n",
              "      <td>WHITE ONLY</td>\n",
              "      <td>INSTITUTIONAL SETTING</td>\n",
              "      <td>NOT APPLICABLE</td>\n",
              "      <td>ENGLISH</td>\n",
              "      <td>NO</td>\n",
              "      <td>NOT IN LABOR FORCE:UNEMPLOYED AND NOT LOOKING ...</td>\n",
              "      <td>NOT APPLICABLE</td>\n",
              "      <td>COLLEGE OR GRADUATE DEGREE</td>\n",
              "      <td>NOT APPLICABLE</td>\n",
              "      <td>YES</td>\n",
              "      <td>NO</td>\n",
              "      <td>NO</td>\n",
              "      <td>NO</td>\n",
              "      <td>NO</td>\n",
              "      <td>YES</td>\n",
              "      <td>NO</td>\n",
              "      <td>NO</td>\n",
              "      <td>NO</td>\n",
              "      <td>NO</td>\n",
              "      <td>NO</td>\n",
              "      <td>NO</td>\n",
              "      <td>NO</td>\n",
              "      <td>NO</td>\n",
              "      <td>NO</td>\n",
              "      <td>NO</td>\n",
              "      <td>NO</td>\n",
              "      <td>NO</td>\n",
              "      <td>NO</td>\n",
              "      <td>NO</td>\n",
              "      <td>NO</td>\n",
              "      <td>NO</td>\n",
              "      <td>NO</td>\n",
              "      <td>NO</td>\n",
              "      <td>YES</td>\n",
              "      <td>NO</td>\n",
              "      <td>NO</td>\n",
              "      <td>NO</td>\n",
              "      <td>NO</td>\n",
              "      <td>NO</td>\n",
              "      <td>YES</td>\n",
              "      <td>MENTAL ILLNESS</td>\n",
              "      <td>UNKNOWN</td>\n",
              "      <td>YES</td>\n",
              "      <td>NO</td>\n",
              "      <td>NO</td>\n",
              "      <td>NO</td>\n",
              "      <td>UNKNOWN</td>\n",
              "      <td>UNKNOWN</td>\n",
              "      <td>UNKNOWN</td>\n",
              "      <td>NO</td>\n",
              "      <td>NO</td>\n",
              "      <td>YES</td>\n",
              "      <td>NO</td>\n",
              "      <td>UNKNOWN</td>\n",
              "      <td>NO</td>\n",
              "      <td>NO</td>\n",
              "      <td>UNKNOWN</td>\n",
              "      <td>YES</td>\n",
              "      <td>113</td>\n",
              "    </tr>\n",
              "    <tr>\n",
              "      <th>2</th>\n",
              "      <td>2015</td>\n",
              "      <td>INPATIENT</td>\n",
              "      <td>HUDSON RIVER REGION</td>\n",
              "      <td>ADULT</td>\n",
              "      <td>MALE</td>\n",
              "      <td>NO, NOT TRANSGENDER</td>\n",
              "      <td>STRAIGHT OR HETEROSEXUAL</td>\n",
              "      <td>NO, NOT HISPANIC/LATINO</td>\n",
              "      <td>WHITE ONLY</td>\n",
              "      <td>PRIVATE RESIDENCE</td>\n",
              "      <td>COHABITATES WITH OTHERS</td>\n",
              "      <td>ENGLISH</td>\n",
              "      <td>NO</td>\n",
              "      <td>NOT IN LABOR FORCE:UNEMPLOYED AND NOT LOOKING ...</td>\n",
              "      <td>NOT APPLICABLE</td>\n",
              "      <td>COLLEGE OR GRADUATE DEGREE</td>\n",
              "      <td>NOT APPLICABLE</td>\n",
              "      <td>YES</td>\n",
              "      <td>NO</td>\n",
              "      <td>NO</td>\n",
              "      <td>NO</td>\n",
              "      <td>NO</td>\n",
              "      <td>NO</td>\n",
              "      <td>NO</td>\n",
              "      <td>YES</td>\n",
              "      <td>YES</td>\n",
              "      <td>NO</td>\n",
              "      <td>NO</td>\n",
              "      <td>NO</td>\n",
              "      <td>NO</td>\n",
              "      <td>NO</td>\n",
              "      <td>NO</td>\n",
              "      <td>YES</td>\n",
              "      <td>NO</td>\n",
              "      <td>NO</td>\n",
              "      <td>NO</td>\n",
              "      <td>YES</td>\n",
              "      <td>NO</td>\n",
              "      <td>NO</td>\n",
              "      <td>NO</td>\n",
              "      <td>NO</td>\n",
              "      <td>YES</td>\n",
              "      <td>NO</td>\n",
              "      <td>NO</td>\n",
              "      <td>NO</td>\n",
              "      <td>NO</td>\n",
              "      <td>YES</td>\n",
              "      <td>YES</td>\n",
              "      <td>MENTAL ILLNESS</td>\n",
              "      <td>UNKNOWN</td>\n",
              "      <td>NO</td>\n",
              "      <td>NO</td>\n",
              "      <td>NO</td>\n",
              "      <td>NO</td>\n",
              "      <td>NO</td>\n",
              "      <td>NO</td>\n",
              "      <td>NO</td>\n",
              "      <td>NO</td>\n",
              "      <td>NO</td>\n",
              "      <td>YES</td>\n",
              "      <td>NO</td>\n",
              "      <td>NO</td>\n",
              "      <td>NO</td>\n",
              "      <td>NO</td>\n",
              "      <td>NO</td>\n",
              "      <td>YES</td>\n",
              "      <td>107</td>\n",
              "    </tr>\n",
              "    <tr>\n",
              "      <th>3</th>\n",
              "      <td>2015</td>\n",
              "      <td>INPATIENT</td>\n",
              "      <td>NEW YORK CITY REGION</td>\n",
              "      <td>ADULT</td>\n",
              "      <td>FEMALE</td>\n",
              "      <td>NO, NOT TRANSGENDER</td>\n",
              "      <td>STRAIGHT OR HETEROSEXUAL</td>\n",
              "      <td>NO, NOT HISPANIC/LATINO</td>\n",
              "      <td>OTHER</td>\n",
              "      <td>OTHER LIVING SITUATION</td>\n",
              "      <td>NOT APPLICABLE</td>\n",
              "      <td>ASIAN AND PACIFIC ISLAND</td>\n",
              "      <td>NO</td>\n",
              "      <td>NOT IN LABOR FORCE:UNEMPLOYED AND NOT LOOKING ...</td>\n",
              "      <td>NOT APPLICABLE</td>\n",
              "      <td>MIDDLE SCHOOL TO HIGH SCHOOL</td>\n",
              "      <td>NOT APPLICABLE</td>\n",
              "      <td>YES</td>\n",
              "      <td>NO</td>\n",
              "      <td>NO</td>\n",
              "      <td>NO</td>\n",
              "      <td>NO</td>\n",
              "      <td>NO</td>\n",
              "      <td>NO</td>\n",
              "      <td>NO</td>\n",
              "      <td>NO</td>\n",
              "      <td>NO</td>\n",
              "      <td>NO</td>\n",
              "      <td>NO</td>\n",
              "      <td>NO</td>\n",
              "      <td>NO</td>\n",
              "      <td>NO</td>\n",
              "      <td>NO</td>\n",
              "      <td>NO</td>\n",
              "      <td>NO</td>\n",
              "      <td>NO</td>\n",
              "      <td>NO</td>\n",
              "      <td>NO</td>\n",
              "      <td>NO</td>\n",
              "      <td>NO</td>\n",
              "      <td>NO</td>\n",
              "      <td>NO</td>\n",
              "      <td>YES</td>\n",
              "      <td>NO</td>\n",
              "      <td>NO</td>\n",
              "      <td>NO</td>\n",
              "      <td>NO</td>\n",
              "      <td>YES</td>\n",
              "      <td>MENTAL ILLNESS</td>\n",
              "      <td>UNKNOWN</td>\n",
              "      <td>NO</td>\n",
              "      <td>NO</td>\n",
              "      <td>NO</td>\n",
              "      <td>NO</td>\n",
              "      <td>NO</td>\n",
              "      <td>NO</td>\n",
              "      <td>NO</td>\n",
              "      <td>YES</td>\n",
              "      <td>NO</td>\n",
              "      <td>NO</td>\n",
              "      <td>NOT APPLICABLE</td>\n",
              "      <td>NO</td>\n",
              "      <td>NO</td>\n",
              "      <td>NO</td>\n",
              "      <td>NO</td>\n",
              "      <td>YES</td>\n",
              "      <td>888</td>\n",
              "    </tr>\n",
              "    <tr>\n",
              "      <th>4</th>\n",
              "      <td>2015</td>\n",
              "      <td>INPATIENT</td>\n",
              "      <td>LONG ISLAND REGION</td>\n",
              "      <td>ADULT</td>\n",
              "      <td>MALE</td>\n",
              "      <td>NO, NOT TRANSGENDER</td>\n",
              "      <td>STRAIGHT OR HETEROSEXUAL</td>\n",
              "      <td>NO, NOT HISPANIC/LATINO</td>\n",
              "      <td>BLACK ONLY</td>\n",
              "      <td>OTHER LIVING SITUATION</td>\n",
              "      <td>NOT APPLICABLE</td>\n",
              "      <td>ENGLISH</td>\n",
              "      <td>NO</td>\n",
              "      <td>NOT IN LABOR FORCE:UNEMPLOYED AND NOT LOOKING ...</td>\n",
              "      <td>NOT APPLICABLE</td>\n",
              "      <td>MIDDLE SCHOOL TO HIGH SCHOOL</td>\n",
              "      <td>NOT APPLICABLE</td>\n",
              "      <td>YES</td>\n",
              "      <td>NO</td>\n",
              "      <td>NO</td>\n",
              "      <td>YES</td>\n",
              "      <td>NO</td>\n",
              "      <td>NO</td>\n",
              "      <td>NO</td>\n",
              "      <td>NO</td>\n",
              "      <td>YES</td>\n",
              "      <td>YES</td>\n",
              "      <td>NO</td>\n",
              "      <td>NO</td>\n",
              "      <td>NO</td>\n",
              "      <td>NO</td>\n",
              "      <td>YES</td>\n",
              "      <td>NO</td>\n",
              "      <td>YES</td>\n",
              "      <td>NO</td>\n",
              "      <td>NO</td>\n",
              "      <td>NO</td>\n",
              "      <td>NO</td>\n",
              "      <td>NO</td>\n",
              "      <td>NO</td>\n",
              "      <td>NO</td>\n",
              "      <td>NO</td>\n",
              "      <td>NO</td>\n",
              "      <td>NO</td>\n",
              "      <td>NO</td>\n",
              "      <td>NO</td>\n",
              "      <td>NO</td>\n",
              "      <td>YES</td>\n",
              "      <td>MENTAL ILLNESS</td>\n",
              "      <td>NOT MI - ORGANIC MENTAL DISORDER</td>\n",
              "      <td>NO</td>\n",
              "      <td>NO</td>\n",
              "      <td>NO</td>\n",
              "      <td>NO</td>\n",
              "      <td>NO</td>\n",
              "      <td>NO</td>\n",
              "      <td>YES</td>\n",
              "      <td>NO</td>\n",
              "      <td>NO</td>\n",
              "      <td>YES</td>\n",
              "      <td>UNKNOWN</td>\n",
              "      <td>YES</td>\n",
              "      <td>NO</td>\n",
              "      <td>NO</td>\n",
              "      <td>NO</td>\n",
              "      <td>NO</td>\n",
              "      <td>117</td>\n",
              "    </tr>\n",
              "  </tbody>\n",
              "</table>\n",
              "</div>"
            ],
            "text/plain": [
              "   Survey Year  ... Three Digit Residence Zip Code\n",
              "0         2015  ...                            113\n",
              "1         2015  ...                            113\n",
              "2         2015  ...                            107\n",
              "3         2015  ...                            888\n",
              "4         2015  ...                            117\n",
              "\n",
              "[5 rows x 67 columns]"
            ]
          },
          "metadata": {
            "tags": []
          },
          "execution_count": 12
        }
      ]
    },
    {
      "cell_type": "code",
      "metadata": {
        "id": "-rRBRRbdH-bm",
        "colab_type": "code",
        "colab": {
          "base_uri": "https://localhost:8080/",
          "height": 299
        },
        "outputId": "e6bb33ab-7013-4e1c-ea97-58ea82bb7862"
      },
      "source": [
        "df.describe(exclude='number')"
      ],
      "execution_count": 13,
      "outputs": [
        {
          "output_type": "execute_result",
          "data": {
            "text/html": [
              "<div>\n",
              "<style scoped>\n",
              "    .dataframe tbody tr th:only-of-type {\n",
              "        vertical-align: middle;\n",
              "    }\n",
              "\n",
              "    .dataframe tbody tr th {\n",
              "        vertical-align: top;\n",
              "    }\n",
              "\n",
              "    .dataframe thead th {\n",
              "        text-align: right;\n",
              "    }\n",
              "</style>\n",
              "<table border=\"1\" class=\"dataframe\">\n",
              "  <thead>\n",
              "    <tr style=\"text-align: right;\">\n",
              "      <th></th>\n",
              "      <th>Program Category</th>\n",
              "      <th>Region Served</th>\n",
              "      <th>Age Group</th>\n",
              "      <th>Sex</th>\n",
              "      <th>Transgender</th>\n",
              "      <th>Sexual Orientation</th>\n",
              "      <th>Hispanic Ethnicity</th>\n",
              "      <th>Race</th>\n",
              "      <th>Living Situation</th>\n",
              "      <th>Household Composition</th>\n",
              "      <th>Preferred Language</th>\n",
              "      <th>Veteran Status</th>\n",
              "      <th>Employment Status</th>\n",
              "      <th>Number Of Hours Worked Each Week</th>\n",
              "      <th>Education Status</th>\n",
              "      <th>Special Education Services</th>\n",
              "      <th>Mental Illness</th>\n",
              "      <th>Intellectual Disability</th>\n",
              "      <th>Autism Spectrum</th>\n",
              "      <th>Other Developmental Disability</th>\n",
              "      <th>Alcohol Related Disorder</th>\n",
              "      <th>Drug Substance Disorder</th>\n",
              "      <th>Mobility Impairment Disorder</th>\n",
              "      <th>Hearing Visual Impairment</th>\n",
              "      <th>Hyperlipidemia</th>\n",
              "      <th>High Blood Pressure</th>\n",
              "      <th>Diabetes</th>\n",
              "      <th>Obesity</th>\n",
              "      <th>Heart Attack</th>\n",
              "      <th>Stroke</th>\n",
              "      <th>Other Cardiac</th>\n",
              "      <th>Pulmonary Asthma</th>\n",
              "      <th>Alzheimer or Dementia</th>\n",
              "      <th>Kidney Disease</th>\n",
              "      <th>Liver Disease</th>\n",
              "      <th>Endocrine Condition</th>\n",
              "      <th>Neurological Condition</th>\n",
              "      <th>Traumatic Brain Injury</th>\n",
              "      <th>Joint Disease</th>\n",
              "      <th>Cancer</th>\n",
              "      <th>Other Chronic Med Condition</th>\n",
              "      <th>No Chronic Med Condition</th>\n",
              "      <th>Unknown Chronic Med Condition</th>\n",
              "      <th>Smokes</th>\n",
              "      <th>Received Smoking Medication</th>\n",
              "      <th>Received Smoking Counseling</th>\n",
              "      <th>Serious Mental Illness</th>\n",
              "      <th>Principal Diagnosis Class</th>\n",
              "      <th>Additional Diagnosis Class</th>\n",
              "      <th>SSI Cash Assistance</th>\n",
              "      <th>SSDI Cash Assistance</th>\n",
              "      <th>Veterans Disability Benefits</th>\n",
              "      <th>Veterans Cash Assistance</th>\n",
              "      <th>Public Assistance Cash Program</th>\n",
              "      <th>Other Cash Benefits</th>\n",
              "      <th>Medicaid and Medicare Insurance</th>\n",
              "      <th>No Insurance</th>\n",
              "      <th>Unknown Insurance Coverage</th>\n",
              "      <th>Medicaid Insurance</th>\n",
              "      <th>Medicaid Managed Insurance</th>\n",
              "      <th>Medicare Insurance</th>\n",
              "      <th>Private Insurance</th>\n",
              "      <th>Child Health Plus Insurance</th>\n",
              "      <th>Other Insurance</th>\n",
              "      <th>Criminal Justice Status</th>\n",
              "    </tr>\n",
              "  </thead>\n",
              "  <tbody>\n",
              "    <tr>\n",
              "      <th>count</th>\n",
              "      <td>179096</td>\n",
              "      <td>179096</td>\n",
              "      <td>179096</td>\n",
              "      <td>179096</td>\n",
              "      <td>179096</td>\n",
              "      <td>179096</td>\n",
              "      <td>179096</td>\n",
              "      <td>179096</td>\n",
              "      <td>179096</td>\n",
              "      <td>179096</td>\n",
              "      <td>179096</td>\n",
              "      <td>179096</td>\n",
              "      <td>179096</td>\n",
              "      <td>179096</td>\n",
              "      <td>179096</td>\n",
              "      <td>179096</td>\n",
              "      <td>179096</td>\n",
              "      <td>179096</td>\n",
              "      <td>179096</td>\n",
              "      <td>179096</td>\n",
              "      <td>179096</td>\n",
              "      <td>179096</td>\n",
              "      <td>179096</td>\n",
              "      <td>179096</td>\n",
              "      <td>179096</td>\n",
              "      <td>179096</td>\n",
              "      <td>179096</td>\n",
              "      <td>179096</td>\n",
              "      <td>179096</td>\n",
              "      <td>179096</td>\n",
              "      <td>179096</td>\n",
              "      <td>179096</td>\n",
              "      <td>179096</td>\n",
              "      <td>179096</td>\n",
              "      <td>179096</td>\n",
              "      <td>179096</td>\n",
              "      <td>179096</td>\n",
              "      <td>179096</td>\n",
              "      <td>179096</td>\n",
              "      <td>179096</td>\n",
              "      <td>179096</td>\n",
              "      <td>179096</td>\n",
              "      <td>179096</td>\n",
              "      <td>179096</td>\n",
              "      <td>179096</td>\n",
              "      <td>179096</td>\n",
              "      <td>179096</td>\n",
              "      <td>179096</td>\n",
              "      <td>179096</td>\n",
              "      <td>179096</td>\n",
              "      <td>179096</td>\n",
              "      <td>179096</td>\n",
              "      <td>179096</td>\n",
              "      <td>179096</td>\n",
              "      <td>179096</td>\n",
              "      <td>179096</td>\n",
              "      <td>179096</td>\n",
              "      <td>179096</td>\n",
              "      <td>179096</td>\n",
              "      <td>179096</td>\n",
              "      <td>179096</td>\n",
              "      <td>179096</td>\n",
              "      <td>179096</td>\n",
              "      <td>179096</td>\n",
              "      <td>179096</td>\n",
              "    </tr>\n",
              "    <tr>\n",
              "      <th>unique</th>\n",
              "      <td>5</td>\n",
              "      <td>5</td>\n",
              "      <td>3</td>\n",
              "      <td>3</td>\n",
              "      <td>4</td>\n",
              "      <td>6</td>\n",
              "      <td>3</td>\n",
              "      <td>5</td>\n",
              "      <td>4</td>\n",
              "      <td>4</td>\n",
              "      <td>7</td>\n",
              "      <td>3</td>\n",
              "      <td>5</td>\n",
              "      <td>5</td>\n",
              "      <td>7</td>\n",
              "      <td>4</td>\n",
              "      <td>3</td>\n",
              "      <td>3</td>\n",
              "      <td>3</td>\n",
              "      <td>3</td>\n",
              "      <td>3</td>\n",
              "      <td>3</td>\n",
              "      <td>3</td>\n",
              "      <td>3</td>\n",
              "      <td>3</td>\n",
              "      <td>3</td>\n",
              "      <td>3</td>\n",
              "      <td>3</td>\n",
              "      <td>3</td>\n",
              "      <td>3</td>\n",
              "      <td>3</td>\n",
              "      <td>3</td>\n",
              "      <td>3</td>\n",
              "      <td>3</td>\n",
              "      <td>3</td>\n",
              "      <td>3</td>\n",
              "      <td>3</td>\n",
              "      <td>3</td>\n",
              "      <td>3</td>\n",
              "      <td>3</td>\n",
              "      <td>3</td>\n",
              "      <td>3</td>\n",
              "      <td>2</td>\n",
              "      <td>3</td>\n",
              "      <td>3</td>\n",
              "      <td>3</td>\n",
              "      <td>3</td>\n",
              "      <td>6</td>\n",
              "      <td>6</td>\n",
              "      <td>3</td>\n",
              "      <td>3</td>\n",
              "      <td>3</td>\n",
              "      <td>3</td>\n",
              "      <td>3</td>\n",
              "      <td>3</td>\n",
              "      <td>3</td>\n",
              "      <td>3</td>\n",
              "      <td>2</td>\n",
              "      <td>3</td>\n",
              "      <td>4</td>\n",
              "      <td>3</td>\n",
              "      <td>3</td>\n",
              "      <td>3</td>\n",
              "      <td>3</td>\n",
              "      <td>3</td>\n",
              "    </tr>\n",
              "    <tr>\n",
              "      <th>top</th>\n",
              "      <td>OUTPATIENT</td>\n",
              "      <td>NEW YORK CITY REGION</td>\n",
              "      <td>ADULT</td>\n",
              "      <td>FEMALE</td>\n",
              "      <td>NO, NOT TRANSGENDER</td>\n",
              "      <td>STRAIGHT OR HETEROSEXUAL</td>\n",
              "      <td>NO, NOT HISPANIC/LATINO</td>\n",
              "      <td>WHITE ONLY</td>\n",
              "      <td>PRIVATE RESIDENCE</td>\n",
              "      <td>COHABITATES WITH OTHERS</td>\n",
              "      <td>ENGLISH</td>\n",
              "      <td>NO</td>\n",
              "      <td>NOT IN LABOR FORCE:UNEMPLOYED AND NOT LOOKING ...</td>\n",
              "      <td>NOT APPLICABLE</td>\n",
              "      <td>MIDDLE SCHOOL TO HIGH SCHOOL</td>\n",
              "      <td>NOT APPLICABLE</td>\n",
              "      <td>YES</td>\n",
              "      <td>NO</td>\n",
              "      <td>NO</td>\n",
              "      <td>NO</td>\n",
              "      <td>NO</td>\n",
              "      <td>NO</td>\n",
              "      <td>NO</td>\n",
              "      <td>NO</td>\n",
              "      <td>NO</td>\n",
              "      <td>NO</td>\n",
              "      <td>NO</td>\n",
              "      <td>NO</td>\n",
              "      <td>NO</td>\n",
              "      <td>NO</td>\n",
              "      <td>NO</td>\n",
              "      <td>NO</td>\n",
              "      <td>NO</td>\n",
              "      <td>NO</td>\n",
              "      <td>NO</td>\n",
              "      <td>NO</td>\n",
              "      <td>NO</td>\n",
              "      <td>NO</td>\n",
              "      <td>NO</td>\n",
              "      <td>NO</td>\n",
              "      <td>NO</td>\n",
              "      <td>NO</td>\n",
              "      <td>NO</td>\n",
              "      <td>NO</td>\n",
              "      <td>NO</td>\n",
              "      <td>NO</td>\n",
              "      <td>YES</td>\n",
              "      <td>MENTAL ILLNESS</td>\n",
              "      <td>UNKNOWN</td>\n",
              "      <td>NO</td>\n",
              "      <td>NO</td>\n",
              "      <td>NO</td>\n",
              "      <td>NO</td>\n",
              "      <td>NO</td>\n",
              "      <td>NO</td>\n",
              "      <td>NO</td>\n",
              "      <td>NO</td>\n",
              "      <td>NO</td>\n",
              "      <td>YES</td>\n",
              "      <td>YES</td>\n",
              "      <td>NO</td>\n",
              "      <td>NO</td>\n",
              "      <td>NO</td>\n",
              "      <td>NO</td>\n",
              "      <td>NO</td>\n",
              "    </tr>\n",
              "    <tr>\n",
              "      <th>freq</th>\n",
              "      <td>119206</td>\n",
              "      <td>86949</td>\n",
              "      <td>143213</td>\n",
              "      <td>89922</td>\n",
              "      <td>171589</td>\n",
              "      <td>145005</td>\n",
              "      <td>133965</td>\n",
              "      <td>92256</td>\n",
              "      <td>141338</td>\n",
              "      <td>99615</td>\n",
              "      <td>159987</td>\n",
              "      <td>168871</td>\n",
              "      <td>127460</td>\n",
              "      <td>152440</td>\n",
              "      <td>97353</td>\n",
              "      <td>144693</td>\n",
              "      <td>166407</td>\n",
              "      <td>153640</td>\n",
              "      <td>162028</td>\n",
              "      <td>160051</td>\n",
              "      <td>151043</td>\n",
              "      <td>144200</td>\n",
              "      <td>161663</td>\n",
              "      <td>160518</td>\n",
              "      <td>140084</td>\n",
              "      <td>128915</td>\n",
              "      <td>141989</td>\n",
              "      <td>136075</td>\n",
              "      <td>160029</td>\n",
              "      <td>159979</td>\n",
              "      <td>154522</td>\n",
              "      <td>142897</td>\n",
              "      <td>161119</td>\n",
              "      <td>159515</td>\n",
              "      <td>157933</td>\n",
              "      <td>153159</td>\n",
              "      <td>159891</td>\n",
              "      <td>159591</td>\n",
              "      <td>147261</td>\n",
              "      <td>158244</td>\n",
              "      <td>132509</td>\n",
              "      <td>95270</td>\n",
              "      <td>161899</td>\n",
              "      <td>117457</td>\n",
              "      <td>159614</td>\n",
              "      <td>141850</td>\n",
              "      <td>143083</td>\n",
              "      <td>167521</td>\n",
              "      <td>99369</td>\n",
              "      <td>101470</td>\n",
              "      <td>128530</td>\n",
              "      <td>163948</td>\n",
              "      <td>163983</td>\n",
              "      <td>130818</td>\n",
              "      <td>146008</td>\n",
              "      <td>142562</td>\n",
              "      <td>163266</td>\n",
              "      <td>173977</td>\n",
              "      <td>131435</td>\n",
              "      <td>74988</td>\n",
              "      <td>132258</td>\n",
              "      <td>146509</td>\n",
              "      <td>166016</td>\n",
              "      <td>158819</td>\n",
              "      <td>147646</td>\n",
              "    </tr>\n",
              "  </tbody>\n",
              "</table>\n",
              "</div>"
            ],
            "text/plain": [
              "       Program Category  ... Criminal Justice Status\n",
              "count            179096  ...                  179096\n",
              "unique                5  ...                       3\n",
              "top          OUTPATIENT  ...                      NO\n",
              "freq             119206  ...                  147646\n",
              "\n",
              "[4 rows x 65 columns]"
            ]
          },
          "metadata": {
            "tags": []
          },
          "execution_count": 13
        }
      ]
    },
    {
      "cell_type": "code",
      "metadata": {
        "id": "qo35cnUcOCNp",
        "colab_type": "code",
        "colab": {
          "base_uri": "https://localhost:8080/",
          "height": 86
        },
        "outputId": "c6fbc0e4-2ee6-42e6-e3f3-e37d0d705f5f"
      },
      "source": [
        "df['Sex'].value_counts()"
      ],
      "execution_count": 14,
      "outputs": [
        {
          "output_type": "execute_result",
          "data": {
            "text/plain": [
              "FEMALE     89922\n",
              "MALE       88798\n",
              "UNKNOWN      376\n",
              "Name: Sex, dtype: int64"
            ]
          },
          "metadata": {
            "tags": []
          },
          "execution_count": 14
        }
      ]
    },
    {
      "cell_type": "code",
      "metadata": {
        "id": "SWPYQJLrO6ha",
        "colab_type": "code",
        "colab": {
          "base_uri": "https://localhost:8080/",
          "height": 139
        },
        "outputId": "a96dfb3f-7f50-4e2d-bb06-ae225e024c42"
      },
      "source": [
        "df['Sexual Orientation'].value_counts()"
      ],
      "execution_count": 15,
      "outputs": [
        {
          "output_type": "execute_result",
          "data": {
            "text/plain": [
              "STRAIGHT OR HETEROSEXUAL    145005\n",
              "UNKNOWN                      17609\n",
              "CLIENT DID NOT ANSWER         6185\n",
              "LESBIAN OR GAY                5053\n",
              "BISEXUAL                      4157\n",
              "OTHER                         1087\n",
              "Name: Sexual Orientation, dtype: int64"
            ]
          },
          "metadata": {
            "tags": []
          },
          "execution_count": 15
        }
      ]
    },
    {
      "cell_type": "code",
      "metadata": {
        "id": "TF3_ZTgPQ0LG",
        "colab_type": "code",
        "colab": {
          "base_uri": "https://localhost:8080/",
          "height": 556
        },
        "outputId": "82c22cc1-172f-4e66-e29c-86a2c0e7eb0f"
      },
      "source": [
        "df = df.sort_values(by='Sexual Orientation', ascending=True)\n",
        "df.head()"
      ],
      "execution_count": 16,
      "outputs": [
        {
          "output_type": "execute_result",
          "data": {
            "text/html": [
              "<div>\n",
              "<style scoped>\n",
              "    .dataframe tbody tr th:only-of-type {\n",
              "        vertical-align: middle;\n",
              "    }\n",
              "\n",
              "    .dataframe tbody tr th {\n",
              "        vertical-align: top;\n",
              "    }\n",
              "\n",
              "    .dataframe thead th {\n",
              "        text-align: right;\n",
              "    }\n",
              "</style>\n",
              "<table border=\"1\" class=\"dataframe\">\n",
              "  <thead>\n",
              "    <tr style=\"text-align: right;\">\n",
              "      <th></th>\n",
              "      <th>Survey Year</th>\n",
              "      <th>Program Category</th>\n",
              "      <th>Region Served</th>\n",
              "      <th>Age Group</th>\n",
              "      <th>Sex</th>\n",
              "      <th>Transgender</th>\n",
              "      <th>Sexual Orientation</th>\n",
              "      <th>Hispanic Ethnicity</th>\n",
              "      <th>Race</th>\n",
              "      <th>Living Situation</th>\n",
              "      <th>Household Composition</th>\n",
              "      <th>Preferred Language</th>\n",
              "      <th>Veteran Status</th>\n",
              "      <th>Employment Status</th>\n",
              "      <th>Number Of Hours Worked Each Week</th>\n",
              "      <th>Education Status</th>\n",
              "      <th>Special Education Services</th>\n",
              "      <th>Mental Illness</th>\n",
              "      <th>Intellectual Disability</th>\n",
              "      <th>Autism Spectrum</th>\n",
              "      <th>Other Developmental Disability</th>\n",
              "      <th>Alcohol Related Disorder</th>\n",
              "      <th>Drug Substance Disorder</th>\n",
              "      <th>Mobility Impairment Disorder</th>\n",
              "      <th>Hearing Visual Impairment</th>\n",
              "      <th>Hyperlipidemia</th>\n",
              "      <th>High Blood Pressure</th>\n",
              "      <th>Diabetes</th>\n",
              "      <th>Obesity</th>\n",
              "      <th>Heart Attack</th>\n",
              "      <th>Stroke</th>\n",
              "      <th>Other Cardiac</th>\n",
              "      <th>Pulmonary Asthma</th>\n",
              "      <th>Alzheimer or Dementia</th>\n",
              "      <th>Kidney Disease</th>\n",
              "      <th>Liver Disease</th>\n",
              "      <th>Endocrine Condition</th>\n",
              "      <th>Neurological Condition</th>\n",
              "      <th>Traumatic Brain Injury</th>\n",
              "      <th>Joint Disease</th>\n",
              "      <th>Cancer</th>\n",
              "      <th>Other Chronic Med Condition</th>\n",
              "      <th>No Chronic Med Condition</th>\n",
              "      <th>Unknown Chronic Med Condition</th>\n",
              "      <th>Smokes</th>\n",
              "      <th>Received Smoking Medication</th>\n",
              "      <th>Received Smoking Counseling</th>\n",
              "      <th>Serious Mental Illness</th>\n",
              "      <th>Principal Diagnosis Class</th>\n",
              "      <th>Additional Diagnosis Class</th>\n",
              "      <th>SSI Cash Assistance</th>\n",
              "      <th>SSDI Cash Assistance</th>\n",
              "      <th>Veterans Disability Benefits</th>\n",
              "      <th>Veterans Cash Assistance</th>\n",
              "      <th>Public Assistance Cash Program</th>\n",
              "      <th>Other Cash Benefits</th>\n",
              "      <th>Medicaid and Medicare Insurance</th>\n",
              "      <th>No Insurance</th>\n",
              "      <th>Unknown Insurance Coverage</th>\n",
              "      <th>Medicaid Insurance</th>\n",
              "      <th>Medicaid Managed Insurance</th>\n",
              "      <th>Medicare Insurance</th>\n",
              "      <th>Private Insurance</th>\n",
              "      <th>Child Health Plus Insurance</th>\n",
              "      <th>Other Insurance</th>\n",
              "      <th>Criminal Justice Status</th>\n",
              "      <th>Three Digit Residence Zip Code</th>\n",
              "    </tr>\n",
              "  </thead>\n",
              "  <tbody>\n",
              "    <tr>\n",
              "      <th>167580</th>\n",
              "      <td>2015</td>\n",
              "      <td>OUTPATIENT</td>\n",
              "      <td>LONG ISLAND REGION</td>\n",
              "      <td>ADULT</td>\n",
              "      <td>FEMALE</td>\n",
              "      <td>NO, NOT TRANSGENDER</td>\n",
              "      <td>BISEXUAL</td>\n",
              "      <td>NO, NOT HISPANIC/LATINO</td>\n",
              "      <td>WHITE ONLY</td>\n",
              "      <td>OTHER LIVING SITUATION</td>\n",
              "      <td>NOT APPLICABLE</td>\n",
              "      <td>ENGLISH</td>\n",
              "      <td>NO</td>\n",
              "      <td>UNEMPLOYED, LOOKING FOR WORK</td>\n",
              "      <td>NOT APPLICABLE</td>\n",
              "      <td>MIDDLE SCHOOL TO HIGH SCHOOL</td>\n",
              "      <td>NOT APPLICABLE</td>\n",
              "      <td>YES</td>\n",
              "      <td>NO</td>\n",
              "      <td>NO</td>\n",
              "      <td>NO</td>\n",
              "      <td>NO</td>\n",
              "      <td>NO</td>\n",
              "      <td>NO</td>\n",
              "      <td>NO</td>\n",
              "      <td>NO</td>\n",
              "      <td>NO</td>\n",
              "      <td>NO</td>\n",
              "      <td>YES</td>\n",
              "      <td>NO</td>\n",
              "      <td>NO</td>\n",
              "      <td>NO</td>\n",
              "      <td>YES</td>\n",
              "      <td>NO</td>\n",
              "      <td>NO</td>\n",
              "      <td>NO</td>\n",
              "      <td>NO</td>\n",
              "      <td>NO</td>\n",
              "      <td>NO</td>\n",
              "      <td>YES</td>\n",
              "      <td>NO</td>\n",
              "      <td>NO</td>\n",
              "      <td>NO</td>\n",
              "      <td>NO</td>\n",
              "      <td>YES</td>\n",
              "      <td>NO</td>\n",
              "      <td>YES</td>\n",
              "      <td>YES</td>\n",
              "      <td>MENTAL ILLNESS</td>\n",
              "      <td>MENTAL ILLNESS</td>\n",
              "      <td>YES</td>\n",
              "      <td>NO</td>\n",
              "      <td>NO</td>\n",
              "      <td>NO</td>\n",
              "      <td>YES</td>\n",
              "      <td>NO</td>\n",
              "      <td>NO</td>\n",
              "      <td>NO</td>\n",
              "      <td>NO</td>\n",
              "      <td>YES</td>\n",
              "      <td>YES</td>\n",
              "      <td>NO</td>\n",
              "      <td>NO</td>\n",
              "      <td>NO</td>\n",
              "      <td>NO</td>\n",
              "      <td>NO</td>\n",
              "      <td>888</td>\n",
              "    </tr>\n",
              "    <tr>\n",
              "      <th>73490</th>\n",
              "      <td>2015</td>\n",
              "      <td>OUTPATIENT</td>\n",
              "      <td>WESTERN REGION</td>\n",
              "      <td>CHILD</td>\n",
              "      <td>FEMALE</td>\n",
              "      <td>NO, NOT TRANSGENDER</td>\n",
              "      <td>BISEXUAL</td>\n",
              "      <td>NO, NOT HISPANIC/LATINO</td>\n",
              "      <td>WHITE ONLY</td>\n",
              "      <td>PRIVATE RESIDENCE</td>\n",
              "      <td>COHABITATES WITH OTHERS</td>\n",
              "      <td>ENGLISH</td>\n",
              "      <td>NO</td>\n",
              "      <td>NOT IN LABOR FORCE:UNEMPLOYED AND NOT LOOKING ...</td>\n",
              "      <td>NOT APPLICABLE</td>\n",
              "      <td>MIDDLE SCHOOL TO HIGH SCHOOL</td>\n",
              "      <td>NO</td>\n",
              "      <td>YES</td>\n",
              "      <td>NO</td>\n",
              "      <td>NO</td>\n",
              "      <td>NO</td>\n",
              "      <td>NO</td>\n",
              "      <td>NO</td>\n",
              "      <td>NO</td>\n",
              "      <td>YES</td>\n",
              "      <td>NO</td>\n",
              "      <td>NO</td>\n",
              "      <td>NO</td>\n",
              "      <td>NO</td>\n",
              "      <td>NO</td>\n",
              "      <td>NO</td>\n",
              "      <td>NO</td>\n",
              "      <td>YES</td>\n",
              "      <td>NO</td>\n",
              "      <td>NO</td>\n",
              "      <td>NO</td>\n",
              "      <td>NO</td>\n",
              "      <td>NO</td>\n",
              "      <td>NO</td>\n",
              "      <td>NO</td>\n",
              "      <td>NO</td>\n",
              "      <td>NO</td>\n",
              "      <td>NO</td>\n",
              "      <td>NO</td>\n",
              "      <td>YES</td>\n",
              "      <td>NO</td>\n",
              "      <td>NO</td>\n",
              "      <td>YES</td>\n",
              "      <td>MENTAL ILLNESS</td>\n",
              "      <td>UNKNOWN</td>\n",
              "      <td>NO</td>\n",
              "      <td>NO</td>\n",
              "      <td>NO</td>\n",
              "      <td>NO</td>\n",
              "      <td>NO</td>\n",
              "      <td>NO</td>\n",
              "      <td>NO</td>\n",
              "      <td>NO</td>\n",
              "      <td>NO</td>\n",
              "      <td>YES</td>\n",
              "      <td>YES</td>\n",
              "      <td>NO</td>\n",
              "      <td>NO</td>\n",
              "      <td>NO</td>\n",
              "      <td>NO</td>\n",
              "      <td>NO</td>\n",
              "      <td>144</td>\n",
              "    </tr>\n",
              "    <tr>\n",
              "      <th>145012</th>\n",
              "      <td>2015</td>\n",
              "      <td>RESIDENTIAL</td>\n",
              "      <td>NEW YORK CITY REGION</td>\n",
              "      <td>ADULT</td>\n",
              "      <td>MALE</td>\n",
              "      <td>NO, NOT TRANSGENDER</td>\n",
              "      <td>BISEXUAL</td>\n",
              "      <td>NO, NOT HISPANIC/LATINO</td>\n",
              "      <td>BLACK ONLY</td>\n",
              "      <td>PRIVATE RESIDENCE</td>\n",
              "      <td>LIVES ALONE</td>\n",
              "      <td>ENGLISH</td>\n",
              "      <td>NO</td>\n",
              "      <td>NOT IN LABOR FORCE:UNEMPLOYED AND NOT LOOKING ...</td>\n",
              "      <td>NOT APPLICABLE</td>\n",
              "      <td>MIDDLE SCHOOL TO HIGH SCHOOL</td>\n",
              "      <td>NOT APPLICABLE</td>\n",
              "      <td>YES</td>\n",
              "      <td>NO</td>\n",
              "      <td>NO</td>\n",
              "      <td>NO</td>\n",
              "      <td>NO</td>\n",
              "      <td>YES</td>\n",
              "      <td>NO</td>\n",
              "      <td>NO</td>\n",
              "      <td>YES</td>\n",
              "      <td>YES</td>\n",
              "      <td>NO</td>\n",
              "      <td>NO</td>\n",
              "      <td>NO</td>\n",
              "      <td>NO</td>\n",
              "      <td>NO</td>\n",
              "      <td>YES</td>\n",
              "      <td>NO</td>\n",
              "      <td>NO</td>\n",
              "      <td>YES</td>\n",
              "      <td>YES</td>\n",
              "      <td>NO</td>\n",
              "      <td>NO</td>\n",
              "      <td>YES</td>\n",
              "      <td>NO</td>\n",
              "      <td>NO</td>\n",
              "      <td>NO</td>\n",
              "      <td>NO</td>\n",
              "      <td>YES</td>\n",
              "      <td>YES</td>\n",
              "      <td>YES</td>\n",
              "      <td>YES</td>\n",
              "      <td>MENTAL ILLNESS</td>\n",
              "      <td>SUBSTANCE-RELATED AND ADDICTIVE DISORDERS</td>\n",
              "      <td>YES</td>\n",
              "      <td>YES</td>\n",
              "      <td>NO</td>\n",
              "      <td>NO</td>\n",
              "      <td>NO</td>\n",
              "      <td>NO</td>\n",
              "      <td>YES</td>\n",
              "      <td>NO</td>\n",
              "      <td>NO</td>\n",
              "      <td>YES</td>\n",
              "      <td>YES</td>\n",
              "      <td>YES</td>\n",
              "      <td>NO</td>\n",
              "      <td>NO</td>\n",
              "      <td>NO</td>\n",
              "      <td>NO</td>\n",
              "      <td>104</td>\n",
              "    </tr>\n",
              "    <tr>\n",
              "      <th>6055</th>\n",
              "      <td>2015</td>\n",
              "      <td>OUTPATIENT</td>\n",
              "      <td>HUDSON RIVER REGION</td>\n",
              "      <td>ADULT</td>\n",
              "      <td>MALE</td>\n",
              "      <td>NO, NOT TRANSGENDER</td>\n",
              "      <td>BISEXUAL</td>\n",
              "      <td>YES</td>\n",
              "      <td>OTHER</td>\n",
              "      <td>PRIVATE RESIDENCE</td>\n",
              "      <td>COHABITATES WITH OTHERS</td>\n",
              "      <td>SPANISH</td>\n",
              "      <td>NO</td>\n",
              "      <td>NOT IN LABOR FORCE:UNEMPLOYED AND NOT LOOKING ...</td>\n",
              "      <td>NOT APPLICABLE</td>\n",
              "      <td>MIDDLE SCHOOL TO HIGH SCHOOL</td>\n",
              "      <td>YES</td>\n",
              "      <td>YES</td>\n",
              "      <td>UNKNOWN</td>\n",
              "      <td>YES</td>\n",
              "      <td>UNKNOWN</td>\n",
              "      <td>UNKNOWN</td>\n",
              "      <td>NO</td>\n",
              "      <td>NO</td>\n",
              "      <td>NO</td>\n",
              "      <td>NO</td>\n",
              "      <td>NO</td>\n",
              "      <td>NO</td>\n",
              "      <td>NO</td>\n",
              "      <td>NO</td>\n",
              "      <td>NO</td>\n",
              "      <td>NO</td>\n",
              "      <td>NO</td>\n",
              "      <td>NO</td>\n",
              "      <td>NO</td>\n",
              "      <td>NO</td>\n",
              "      <td>NO</td>\n",
              "      <td>NO</td>\n",
              "      <td>NO</td>\n",
              "      <td>NO</td>\n",
              "      <td>NO</td>\n",
              "      <td>NO</td>\n",
              "      <td>YES</td>\n",
              "      <td>NO</td>\n",
              "      <td>NO</td>\n",
              "      <td>NO</td>\n",
              "      <td>NO</td>\n",
              "      <td>YES</td>\n",
              "      <td>MENTAL ILLNESS</td>\n",
              "      <td>NOT MI - OTHER</td>\n",
              "      <td>NO</td>\n",
              "      <td>NO</td>\n",
              "      <td>NO</td>\n",
              "      <td>NO</td>\n",
              "      <td>NO</td>\n",
              "      <td>NO</td>\n",
              "      <td>NO</td>\n",
              "      <td>NO</td>\n",
              "      <td>NO</td>\n",
              "      <td>NO</td>\n",
              "      <td>NOT APPLICABLE</td>\n",
              "      <td>NO</td>\n",
              "      <td>YES</td>\n",
              "      <td>UNKNOWN</td>\n",
              "      <td>UNKNOWN</td>\n",
              "      <td>NO</td>\n",
              "      <td>126</td>\n",
              "    </tr>\n",
              "    <tr>\n",
              "      <th>176335</th>\n",
              "      <td>2015</td>\n",
              "      <td>OUTPATIENT</td>\n",
              "      <td>NEW YORK CITY REGION</td>\n",
              "      <td>ADULT</td>\n",
              "      <td>MALE</td>\n",
              "      <td>NO, NOT TRANSGENDER</td>\n",
              "      <td>BISEXUAL</td>\n",
              "      <td>NO, NOT HISPANIC/LATINO</td>\n",
              "      <td>WHITE ONLY</td>\n",
              "      <td>PRIVATE RESIDENCE</td>\n",
              "      <td>COHABITATES WITH OTHERS</td>\n",
              "      <td>ENGLISH</td>\n",
              "      <td>NO</td>\n",
              "      <td>NOT IN LABOR FORCE:UNEMPLOYED AND NOT LOOKING ...</td>\n",
              "      <td>NOT APPLICABLE</td>\n",
              "      <td>COLLEGE OR GRADUATE DEGREE</td>\n",
              "      <td>NOT APPLICABLE</td>\n",
              "      <td>YES</td>\n",
              "      <td>NO</td>\n",
              "      <td>NO</td>\n",
              "      <td>YES</td>\n",
              "      <td>NO</td>\n",
              "      <td>NO</td>\n",
              "      <td>NO</td>\n",
              "      <td>NO</td>\n",
              "      <td>NO</td>\n",
              "      <td>NO</td>\n",
              "      <td>NO</td>\n",
              "      <td>NO</td>\n",
              "      <td>NO</td>\n",
              "      <td>NO</td>\n",
              "      <td>NO</td>\n",
              "      <td>NO</td>\n",
              "      <td>NO</td>\n",
              "      <td>NO</td>\n",
              "      <td>NO</td>\n",
              "      <td>NO</td>\n",
              "      <td>YES</td>\n",
              "      <td>NO</td>\n",
              "      <td>NO</td>\n",
              "      <td>NO</td>\n",
              "      <td>NO</td>\n",
              "      <td>NO</td>\n",
              "      <td>NO</td>\n",
              "      <td>NO</td>\n",
              "      <td>NO</td>\n",
              "      <td>NO</td>\n",
              "      <td>YES</td>\n",
              "      <td>MENTAL ILLNESS</td>\n",
              "      <td>MENTAL ILLNESS</td>\n",
              "      <td>YES</td>\n",
              "      <td>YES</td>\n",
              "      <td>NO</td>\n",
              "      <td>NO</td>\n",
              "      <td>NO</td>\n",
              "      <td>NO</td>\n",
              "      <td>YES</td>\n",
              "      <td>NO</td>\n",
              "      <td>NO</td>\n",
              "      <td>YES</td>\n",
              "      <td>NO</td>\n",
              "      <td>YES</td>\n",
              "      <td>NO</td>\n",
              "      <td>NO</td>\n",
              "      <td>NO</td>\n",
              "      <td>NO</td>\n",
              "      <td>113</td>\n",
              "    </tr>\n",
              "  </tbody>\n",
              "</table>\n",
              "</div>"
            ],
            "text/plain": [
              "        Survey Year  ... Three Digit Residence Zip Code\n",
              "167580         2015  ...                            888\n",
              "73490          2015  ...                            144\n",
              "145012         2015  ...                            104\n",
              "6055           2015  ...                            126\n",
              "176335         2015  ...                            113\n",
              "\n",
              "[5 rows x 67 columns]"
            ]
          },
          "metadata": {
            "tags": []
          },
          "execution_count": 16
        }
      ]
    },
    {
      "cell_type": "code",
      "metadata": {
        "id": "3RujBnrcTf1X",
        "colab_type": "code",
        "colab": {
          "base_uri": "https://localhost:8080/",
          "height": 489
        },
        "outputId": "a1341276-5bd0-4fc1-fbf2-ed17c810df7b"
      },
      "source": [
        "contingency_table = pd.crosstab([df['Sex'], df['Transgender']], df['Sexual Orientation'], margins=True)\n",
        "contingency_table"
      ],
      "execution_count": 17,
      "outputs": [
        {
          "output_type": "execute_result",
          "data": {
            "text/html": [
              "<div>\n",
              "<style scoped>\n",
              "    .dataframe tbody tr th:only-of-type {\n",
              "        vertical-align: middle;\n",
              "    }\n",
              "\n",
              "    .dataframe tbody tr th {\n",
              "        vertical-align: top;\n",
              "    }\n",
              "\n",
              "    .dataframe thead th {\n",
              "        text-align: right;\n",
              "    }\n",
              "</style>\n",
              "<table border=\"1\" class=\"dataframe\">\n",
              "  <thead>\n",
              "    <tr style=\"text-align: right;\">\n",
              "      <th></th>\n",
              "      <th>Sexual Orientation</th>\n",
              "      <th>BISEXUAL</th>\n",
              "      <th>CLIENT DID NOT ANSWER</th>\n",
              "      <th>LESBIAN OR GAY</th>\n",
              "      <th>OTHER</th>\n",
              "      <th>STRAIGHT OR HETEROSEXUAL</th>\n",
              "      <th>UNKNOWN</th>\n",
              "      <th>All</th>\n",
              "    </tr>\n",
              "    <tr>\n",
              "      <th>Sex</th>\n",
              "      <th>Transgender</th>\n",
              "      <th></th>\n",
              "      <th></th>\n",
              "      <th></th>\n",
              "      <th></th>\n",
              "      <th></th>\n",
              "      <th></th>\n",
              "      <th></th>\n",
              "    </tr>\n",
              "  </thead>\n",
              "  <tbody>\n",
              "    <tr>\n",
              "      <th rowspan=\"4\" valign=\"top\">FEMALE</th>\n",
              "      <th>CLIENT DIDN'T ANSWER</th>\n",
              "      <td>18</td>\n",
              "      <td>253</td>\n",
              "      <td>17</td>\n",
              "      <td>10</td>\n",
              "      <td>118</td>\n",
              "      <td>40</td>\n",
              "      <td>456</td>\n",
              "    </tr>\n",
              "    <tr>\n",
              "      <th>NO, NOT TRANSGENDER</th>\n",
              "      <td>2981</td>\n",
              "      <td>2000</td>\n",
              "      <td>2287</td>\n",
              "      <td>525</td>\n",
              "      <td>73395</td>\n",
              "      <td>5436</td>\n",
              "      <td>86624</td>\n",
              "    </tr>\n",
              "    <tr>\n",
              "      <th>UNKNOWN</th>\n",
              "      <td>22</td>\n",
              "      <td>25</td>\n",
              "      <td>46</td>\n",
              "      <td>18</td>\n",
              "      <td>245</td>\n",
              "      <td>1866</td>\n",
              "      <td>2222</td>\n",
              "    </tr>\n",
              "    <tr>\n",
              "      <th>YES, TRANSGENDER</th>\n",
              "      <td>74</td>\n",
              "      <td>48</td>\n",
              "      <td>119</td>\n",
              "      <td>102</td>\n",
              "      <td>226</td>\n",
              "      <td>51</td>\n",
              "      <td>620</td>\n",
              "    </tr>\n",
              "    <tr>\n",
              "      <th rowspan=\"4\" valign=\"top\">MALE</th>\n",
              "      <th>CLIENT DIDN'T ANSWER</th>\n",
              "      <td>13</td>\n",
              "      <td>370</td>\n",
              "      <td>15</td>\n",
              "      <td>8</td>\n",
              "      <td>144</td>\n",
              "      <td>32</td>\n",
              "      <td>582</td>\n",
              "    </tr>\n",
              "    <tr>\n",
              "      <th>NO, NOT TRANSGENDER</th>\n",
              "      <td>951</td>\n",
              "      <td>3140</td>\n",
              "      <td>2372</td>\n",
              "      <td>319</td>\n",
              "      <td>70331</td>\n",
              "      <td>7810</td>\n",
              "      <td>84923</td>\n",
              "    </tr>\n",
              "    <tr>\n",
              "      <th>UNKNOWN</th>\n",
              "      <td>24</td>\n",
              "      <td>287</td>\n",
              "      <td>36</td>\n",
              "      <td>11</td>\n",
              "      <td>319</td>\n",
              "      <td>1970</td>\n",
              "      <td>2647</td>\n",
              "    </tr>\n",
              "    <tr>\n",
              "      <th>YES, TRANSGENDER</th>\n",
              "      <td>74</td>\n",
              "      <td>59</td>\n",
              "      <td>156</td>\n",
              "      <td>91</td>\n",
              "      <td>193</td>\n",
              "      <td>73</td>\n",
              "      <td>646</td>\n",
              "    </tr>\n",
              "    <tr>\n",
              "      <th rowspan=\"4\" valign=\"top\">UNKNOWN</th>\n",
              "      <th>CLIENT DIDN'T ANSWER</th>\n",
              "      <td>0</td>\n",
              "      <td>2</td>\n",
              "      <td>0</td>\n",
              "      <td>3</td>\n",
              "      <td>0</td>\n",
              "      <td>1</td>\n",
              "      <td>6</td>\n",
              "    </tr>\n",
              "    <tr>\n",
              "      <th>NO, NOT TRANSGENDER</th>\n",
              "      <td>0</td>\n",
              "      <td>0</td>\n",
              "      <td>4</td>\n",
              "      <td>0</td>\n",
              "      <td>31</td>\n",
              "      <td>7</td>\n",
              "      <td>42</td>\n",
              "    </tr>\n",
              "    <tr>\n",
              "      <th>UNKNOWN</th>\n",
              "      <td>0</td>\n",
              "      <td>1</td>\n",
              "      <td>1</td>\n",
              "      <td>0</td>\n",
              "      <td>1</td>\n",
              "      <td>323</td>\n",
              "      <td>326</td>\n",
              "    </tr>\n",
              "    <tr>\n",
              "      <th>YES, TRANSGENDER</th>\n",
              "      <td>0</td>\n",
              "      <td>0</td>\n",
              "      <td>0</td>\n",
              "      <td>0</td>\n",
              "      <td>2</td>\n",
              "      <td>0</td>\n",
              "      <td>2</td>\n",
              "    </tr>\n",
              "    <tr>\n",
              "      <th>All</th>\n",
              "      <th></th>\n",
              "      <td>4157</td>\n",
              "      <td>6185</td>\n",
              "      <td>5053</td>\n",
              "      <td>1087</td>\n",
              "      <td>145005</td>\n",
              "      <td>17609</td>\n",
              "      <td>179096</td>\n",
              "    </tr>\n",
              "  </tbody>\n",
              "</table>\n",
              "</div>"
            ],
            "text/plain": [
              "Sexual Orientation            BISEXUAL  CLIENT DID NOT ANSWER  ...  UNKNOWN     All\n",
              "Sex     Transgender                                            ...                 \n",
              "FEMALE  CLIENT DIDN'T ANSWER        18                    253  ...       40     456\n",
              "        NO, NOT TRANSGENDER       2981                   2000  ...     5436   86624\n",
              "        UNKNOWN                     22                     25  ...     1866    2222\n",
              "        YES, TRANSGENDER            74                     48  ...       51     620\n",
              "MALE    CLIENT DIDN'T ANSWER        13                    370  ...       32     582\n",
              "        NO, NOT TRANSGENDER        951                   3140  ...     7810   84923\n",
              "        UNKNOWN                     24                    287  ...     1970    2647\n",
              "        YES, TRANSGENDER            74                     59  ...       73     646\n",
              "UNKNOWN CLIENT DIDN'T ANSWER         0                      2  ...        1       6\n",
              "        NO, NOT TRANSGENDER          0                      0  ...        7      42\n",
              "        UNKNOWN                      0                      1  ...      323     326\n",
              "        YES, TRANSGENDER             0                      0  ...        0       2\n",
              "All                               4157                   6185  ...    17609  179096\n",
              "\n",
              "[13 rows x 7 columns]"
            ]
          },
          "metadata": {
            "tags": []
          },
          "execution_count": 17
        }
      ]
    },
    {
      "cell_type": "markdown",
      "metadata": {
        "id": "LahMCDNDZ05G",
        "colab_type": "text"
      },
      "source": [
        "\n",
        "# Naming is gender_na, gender_unknown, gender_not_trans, etc"
      ]
    },
    {
      "cell_type": "code",
      "metadata": {
        "id": "wP1yVmJzRgT8",
        "colab_type": "code",
        "colab": {
          "base_uri": "https://localhost:8080/",
          "height": 34
        },
        "outputId": "1af58661-2198-4bf9-a849-cc4d22cb36b4"
      },
      "source": [
        "female_na_trans = contingency_table.iloc[0][0:6].values\n",
        "female_na_trans"
      ],
      "execution_count": 18,
      "outputs": [
        {
          "output_type": "execute_result",
          "data": {
            "text/plain": [
              "array([ 18, 253,  17,  10, 118,  40])"
            ]
          },
          "metadata": {
            "tags": []
          },
          "execution_count": 18
        }
      ]
    },
    {
      "cell_type": "code",
      "metadata": {
        "id": "QSfydTN4Yk6P",
        "colab_type": "code",
        "colab": {
          "base_uri": "https://localhost:8080/",
          "height": 34
        },
        "outputId": "804e0fe3-56f8-4c68-d03a-2f378d366439"
      },
      "source": [
        "female_not_trans = contingency_table.iloc[1][0:6].values\n",
        "female_not_trans\n"
      ],
      "execution_count": 19,
      "outputs": [
        {
          "output_type": "execute_result",
          "data": {
            "text/plain": [
              "array([ 2981,  2000,  2287,   525, 73395,  5436])"
            ]
          },
          "metadata": {
            "tags": []
          },
          "execution_count": 19
        }
      ]
    },
    {
      "cell_type": "code",
      "metadata": {
        "id": "gJgPmrLWbLZq",
        "colab_type": "code",
        "colab": {
          "base_uri": "https://localhost:8080/",
          "height": 34
        },
        "outputId": "0347e468-0bab-42b7-df5a-9a43ef4490fc"
      },
      "source": [
        "female_unknown_trans = contingency_table.iloc[2][0:6].values\n",
        "female_unknown_trans\n"
      ],
      "execution_count": 20,
      "outputs": [
        {
          "output_type": "execute_result",
          "data": {
            "text/plain": [
              "array([  22,   25,   46,   18,  245, 1866])"
            ]
          },
          "metadata": {
            "tags": []
          },
          "execution_count": 20
        }
      ]
    },
    {
      "cell_type": "code",
      "metadata": {
        "id": "Do4W3Pc6aVep",
        "colab_type": "code",
        "colab": {
          "base_uri": "https://localhost:8080/",
          "height": 34
        },
        "outputId": "f5c92629-ee68-4ab7-ac30-75fc7404a230"
      },
      "source": [
        "female_trans = contingency_table.iloc[3][0:6].values\n",
        "female_trans\n"
      ],
      "execution_count": 21,
      "outputs": [
        {
          "output_type": "execute_result",
          "data": {
            "text/plain": [
              "array([ 74,  48, 119, 102, 226,  51])"
            ]
          },
          "metadata": {
            "tags": []
          },
          "execution_count": 21
        }
      ]
    },
    {
      "cell_type": "code",
      "metadata": {
        "colab_type": "code",
        "outputId": "f70191e1-4755-4e8d-cf87-3ef247f45ca1",
        "id": "R98WgqOJb1io",
        "colab": {
          "base_uri": "https://localhost:8080/",
          "height": 34
        }
      },
      "source": [
        "male_na_trans = contingency_table.iloc[4][0:6].values\n",
        "male_na_trans\n"
      ],
      "execution_count": 22,
      "outputs": [
        {
          "output_type": "execute_result",
          "data": {
            "text/plain": [
              "array([ 13, 370,  15,   8, 144,  32])"
            ]
          },
          "metadata": {
            "tags": []
          },
          "execution_count": 22
        }
      ]
    },
    {
      "cell_type": "code",
      "metadata": {
        "colab_type": "code",
        "outputId": "674650e5-d0a5-4a78-89bf-eeb6a800ffec",
        "id": "sGpjRiOub1jP",
        "colab": {
          "base_uri": "https://localhost:8080/",
          "height": 34
        }
      },
      "source": [
        "male_not_trans = contingency_table.iloc[5][0:6].values\n",
        "male_not_trans\n"
      ],
      "execution_count": 23,
      "outputs": [
        {
          "output_type": "execute_result",
          "data": {
            "text/plain": [
              "array([  951,  3140,  2372,   319, 70331,  7810])"
            ]
          },
          "metadata": {
            "tags": []
          },
          "execution_count": 23
        }
      ]
    },
    {
      "cell_type": "code",
      "metadata": {
        "colab_type": "code",
        "outputId": "179129a3-0fd4-4ade-c1ef-0c13d6372a8b",
        "id": "72qQQjz6b1jp",
        "colab": {
          "base_uri": "https://localhost:8080/",
          "height": 34
        }
      },
      "source": [
        "male_unknown_trans = contingency_table.iloc[6][0:6].values\n",
        "male_unknown_trans\n"
      ],
      "execution_count": 24,
      "outputs": [
        {
          "output_type": "execute_result",
          "data": {
            "text/plain": [
              "array([  24,  287,   36,   11,  319, 1970])"
            ]
          },
          "metadata": {
            "tags": []
          },
          "execution_count": 24
        }
      ]
    },
    {
      "cell_type": "code",
      "metadata": {
        "colab_type": "code",
        "outputId": "5110ce47-56fb-4bde-b0d4-9da7fabad62b",
        "id": "dX0bkySjb1j6",
        "colab": {
          "base_uri": "https://localhost:8080/",
          "height": 34
        }
      },
      "source": [
        "male_trans = contingency_table.iloc[7][0:6].values\n",
        "male_trans\n"
      ],
      "execution_count": 25,
      "outputs": [
        {
          "output_type": "execute_result",
          "data": {
            "text/plain": [
              "array([ 74,  59, 156,  91, 193,  73])"
            ]
          },
          "metadata": {
            "tags": []
          },
          "execution_count": 25
        }
      ]
    },
    {
      "cell_type": "code",
      "metadata": {
        "colab_type": "code",
        "outputId": "b45d1c58-cd63-4ea7-a11e-14ac64c0d70b",
        "id": "XMsvlBqveRIm",
        "colab": {
          "base_uri": "https://localhost:8080/",
          "height": 34
        }
      },
      "source": [
        "unknown_na_trans = contingency_table.iloc[8][0:6].values\n",
        "unknown_na_trans\n"
      ],
      "execution_count": 26,
      "outputs": [
        {
          "output_type": "execute_result",
          "data": {
            "text/plain": [
              "array([0, 2, 0, 3, 0, 1])"
            ]
          },
          "metadata": {
            "tags": []
          },
          "execution_count": 26
        }
      ]
    },
    {
      "cell_type": "code",
      "metadata": {
        "colab_type": "code",
        "outputId": "10f185dd-9503-4b05-ca12-b4272c5d7b1f",
        "id": "ls7BWBVYeRJP",
        "colab": {
          "base_uri": "https://localhost:8080/",
          "height": 34
        }
      },
      "source": [
        "unknown_not_trans = contingency_table.iloc[9][0:6].values\n",
        "unknown_not_trans\n"
      ],
      "execution_count": 27,
      "outputs": [
        {
          "output_type": "execute_result",
          "data": {
            "text/plain": [
              "array([ 0,  0,  4,  0, 31,  7])"
            ]
          },
          "metadata": {
            "tags": []
          },
          "execution_count": 27
        }
      ]
    },
    {
      "cell_type": "code",
      "metadata": {
        "colab_type": "code",
        "outputId": "b91831ef-332d-4993-c1f8-7749a85fa67e",
        "id": "2a8qnhALeRJc",
        "colab": {
          "base_uri": "https://localhost:8080/",
          "height": 34
        }
      },
      "source": [
        "unknown_unknown_trans = contingency_table.iloc[10][0:6].values\n",
        "unknown_unknown_trans\n"
      ],
      "execution_count": 28,
      "outputs": [
        {
          "output_type": "execute_result",
          "data": {
            "text/plain": [
              "array([  0,   1,   1,   0,   1, 323])"
            ]
          },
          "metadata": {
            "tags": []
          },
          "execution_count": 28
        }
      ]
    },
    {
      "cell_type": "code",
      "metadata": {
        "colab_type": "code",
        "outputId": "3dd6a169-a8dd-4ac0-bf06-dcd1b30a4b3c",
        "id": "YaontIC5eRJn",
        "colab": {
          "base_uri": "https://localhost:8080/",
          "height": 34
        }
      },
      "source": [
        "unknown_trans = contingency_table.iloc[11][0:6].values\n",
        "unknown_trans\n"
      ],
      "execution_count": 29,
      "outputs": [
        {
          "output_type": "execute_result",
          "data": {
            "text/plain": [
              "array([0, 0, 0, 0, 2, 0])"
            ]
          },
          "metadata": {
            "tags": []
          },
          "execution_count": 29
        }
      ]
    },
    {
      "cell_type": "code",
      "metadata": {
        "id": "Ppc_zRdCfCQu",
        "colab_type": "code",
        "colab": {
          "base_uri": "https://localhost:8080/",
          "height": 642
        },
        "outputId": "7a067ea4-0407-41c7-eed8-b7fc6f254dd8"
      },
      "source": [
        "#Plots the bar chart\n",
        "fig = plt.figure(figsize=(10, 5))\n",
        "sns.set(font_scale=1.8)\n",
        "categories = ['BISEXUAL', 'CLIENT DID NOT ANSWER', 'LESBIAN OR GAY', 'OTHER', 'STRAIGHT OR HETEROSEXUAL', 'UNKNOWN']\n",
        "\n",
        "p1 = plt.bar(categories, female_trans, 0.55, color='#ff6b6b')\n",
        "p2 = plt.bar(categories, female_unknown_trans, 0.55, bottom=female_trans, color='#61868d')\n",
        "p3 = plt.bar(categories, female_na_trans, 0.55, bottom=female_trans, color='#f0dd92')\n",
        "\n",
        "\n",
        "plt.legend((p3[0], p2[0], p1[0]), ('Female Does Not Answer if Trans','Female Unknown if Trans', 'FTM'), bbox_to_anchor=(0.5, 0., 0.5, 0.5))\n",
        "plt.xlabel('Non Cis-Gen Females')\n",
        "plt.ylabel('Count')\n",
        "plt.xticks(x, categories, rotation='vertical')\n",
        "\n",
        "plt.show()"
      ],
      "execution_count": 122,
      "outputs": [
        {
          "output_type": "display_data",
          "data": {
            "image/png": "[encoded data removed]",
            "text/plain": [
              "<Figure size 720x360 with 1 Axes>"
            ]
          },
          "metadata": {
            "tags": []
          }
        }
      ]
    },
    {
      "cell_type": "code",
      "metadata": {
        "id": "CG5Be_rQiziH",
        "colab_type": "code",
        "colab": {
          "base_uri": "https://localhost:8080/",
          "height": 588
        },
        "outputId": "a95adaf5-caff-4174-f151-7f0519a13a75"
      },
      "source": [
        "p1 = plt.bar(categories, female_not_trans, 0.55, color='#169244')\n",
        "p2 = plt.bar(categories, male_not_trans, 0.55, bottom=female_not_trans, color='#173F5F')\n",
        "\n",
        "plt.legend((p2[0], p1[0]), ('Cis Gen Females', 'Cis Gen Men'), loc='upper right', bbox_to_anchor=(0.8, 0., 0.5, 0.5))\n",
        "plt.xlabel('Cis Gen People')\n",
        "plt.ylabel('Count')\n",
        "plt.xticks(x, categories, rotation='vertical')\n",
        "\n",
        "plt.show()"
      ],
      "execution_count": 104,
      "outputs": [
        {
          "output_type": "display_data",
          "data": {
            "image/png": "[encoded data removed]",
            "text/plain": [
              "<Figure size 432x288 with 1 Axes>"
            ]
          },
          "metadata": {
            "tags": []
          }
        }
      ]
    },
    {
      "cell_type": "code",
      "metadata": {
        "id": "C4FxGBUxlbcX",
        "colab_type": "code",
        "colab": {
          "base_uri": "https://localhost:8080/",
          "height": 587
        },
        "outputId": "57ad5995-6fd3-43cb-d3d0-1ce937f56945"
      },
      "source": [
        "p1 = plt.bar(categories, male_trans, 0.55, color='#f3fe7e')\n",
        "p2 = plt.bar(categories, male_unknown_trans, 0.55, bottom=male_trans, color='#420000')\n",
        "p3 = plt.bar(categories, male_na_trans, 0.55, bottom=male_trans, color='#3caea3')\n",
        "\n",
        "plt.legend((p3[0], p2[0], p1[0]), ('Male Did Not Answer if Trans', 'Male, Unknown if Trans', 'MTF' ), loc='upper right', bbox_to_anchor=(1.0, 0.5, 0.5, 0.5))\n",
        "plt.xlabel('Non-Cis Gen Men')\n",
        "plt.ylabel('Count')\n",
        "plt.xticks(x, categories, rotation='vertical')\n",
        "\n",
        "plt.show()"
      ],
      "execution_count": 124,
      "outputs": [
        {
          "output_type": "display_data",
          "data": {
            "image/png": "[encoded data removed]",
            "text/plain": [
              "<Figure size 432x288 with 1 Axes>"
            ]
          },
          "metadata": {
            "tags": []
          }
        }
      ]
    },
    {
      "cell_type": "markdown",
      "metadata": {
        "id": "C3FzYzDdlmyP",
        "colab_type": "text"
      },
      "source": [
        ""
      ]
    },
    {
      "cell_type": "code",
      "metadata": {
        "id": "W34NgdEHlkR2",
        "colab_type": "code",
        "colab": {
          "base_uri": "https://localhost:8080/",
          "height": 587
        },
        "outputId": "f33ca9f8-c646-4f64-8152-8d2a89ed9841"
      },
      "source": [
        "p1 = plt.bar(categories, unknown_trans, 0.55, color='#02383c')\n",
        "p2 = plt.bar(categories, unknown_unknown_trans, 0.55, bottom=unknown_trans, color='#52de97')\n",
        "p3 = plt.bar(categories, unknown_not_trans, 0.55, bottom=unknown_trans, color='#000000')\n",
        "p4 = plt.bar(categories, unknown_na_trans, 0.55, bottom=unknown_trans, color='#e3c4a8')\n",
        "\n",
        "plt.legend((p4[0], p3[0], p2[0], p1[0]), ( 'Unknown Sex, Did not Answer if Trans','Unknown Sex, Not Trans', 'Unknown Sex, Unknown if Trans', 'Unknown Sex but Trans' ), loc='upper right', bbox_to_anchor=(1.0, 0.5, 0.5, 0.5))\n",
        "plt.xlabel('Sex is Unknown')\n",
        "plt.ylabel('Count')\n",
        "plt.xticks(x, categories, rotation='vertical')\n",
        "\n",
        "plt.show()"
      ],
      "execution_count": 126,
      "outputs": [
        {
          "output_type": "display_data",
          "data": {
            "image/png": "[encoded data removed]",
            "text/plain": [
              "<Figure size 432x288 with 1 Axes>"
            ]
          },
          "metadata": {
            "tags": []
          }
        }
      ]
    },
    {
      "cell_type": "code",
      "metadata": {
        "id": "34SDeU60qnc7",
        "colab_type": "code",
        "colab": {
          "base_uri": "https://localhost:8080/",
          "height": 489
        },
        "outputId": "0b344b3b-6a9a-4a07-9d3a-82fb8bf5f1e7"
      },
      "source": [
        "contingency_table"
      ],
      "execution_count": 127,
      "outputs": [
        {
          "output_type": "execute_result",
          "data": {
            "text/html": [
              "<div>\n",
              "<style scoped>\n",
              "    .dataframe tbody tr th:only-of-type {\n",
              "        vertical-align: middle;\n",
              "    }\n",
              "\n",
              "    .dataframe tbody tr th {\n",
              "        vertical-align: top;\n",
              "    }\n",
              "\n",
              "    .dataframe thead th {\n",
              "        text-align: right;\n",
              "    }\n",
              "</style>\n",
              "<table border=\"1\" class=\"dataframe\">\n",
              "  <thead>\n",
              "    <tr style=\"text-align: right;\">\n",
              "      <th></th>\n",
              "      <th>Sexual Orientation</th>\n",
              "      <th>BISEXUAL</th>\n",
              "      <th>CLIENT DID NOT ANSWER</th>\n",
              "      <th>LESBIAN OR GAY</th>\n",
              "      <th>OTHER</th>\n",
              "      <th>STRAIGHT OR HETEROSEXUAL</th>\n",
              "      <th>UNKNOWN</th>\n",
              "      <th>All</th>\n",
              "    </tr>\n",
              "    <tr>\n",
              "      <th>Sex</th>\n",
              "      <th>Transgender</th>\n",
              "      <th></th>\n",
              "      <th></th>\n",
              "      <th></th>\n",
              "      <th></th>\n",
              "      <th></th>\n",
              "      <th></th>\n",
              "      <th></th>\n",
              "    </tr>\n",
              "  </thead>\n",
              "  <tbody>\n",
              "    <tr>\n",
              "      <th rowspan=\"4\" valign=\"top\">FEMALE</th>\n",
              "      <th>CLIENT DIDN'T ANSWER</th>\n",
              "      <td>18</td>\n",
              "      <td>253</td>\n",
              "      <td>17</td>\n",
              "      <td>10</td>\n",
              "      <td>118</td>\n",
              "      <td>40</td>\n",
              "      <td>456</td>\n",
              "    </tr>\n",
              "    <tr>\n",
              "      <th>NO, NOT TRANSGENDER</th>\n",
              "      <td>2981</td>\n",
              "      <td>2000</td>\n",
              "      <td>2287</td>\n",
              "      <td>525</td>\n",
              "      <td>73395</td>\n",
              "      <td>5436</td>\n",
              "      <td>86624</td>\n",
              "    </tr>\n",
              "    <tr>\n",
              "      <th>UNKNOWN</th>\n",
              "      <td>22</td>\n",
              "      <td>25</td>\n",
              "      <td>46</td>\n",
              "      <td>18</td>\n",
              "      <td>245</td>\n",
              "      <td>1866</td>\n",
              "      <td>2222</td>\n",
              "    </tr>\n",
              "    <tr>\n",
              "      <th>YES, TRANSGENDER</th>\n",
              "      <td>74</td>\n",
              "      <td>48</td>\n",
              "      <td>119</td>\n",
              "      <td>102</td>\n",
              "      <td>226</td>\n",
              "      <td>51</td>\n",
              "      <td>620</td>\n",
              "    </tr>\n",
              "    <tr>\n",
              "      <th rowspan=\"4\" valign=\"top\">MALE</th>\n",
              "      <th>CLIENT DIDN'T ANSWER</th>\n",
              "      <td>13</td>\n",
              "      <td>370</td>\n",
              "      <td>15</td>\n",
              "      <td>8</td>\n",
              "      <td>144</td>\n",
              "      <td>32</td>\n",
              "      <td>582</td>\n",
              "    </tr>\n",
              "    <tr>\n",
              "      <th>NO, NOT TRANSGENDER</th>\n",
              "      <td>951</td>\n",
              "      <td>3140</td>\n",
              "      <td>2372</td>\n",
              "      <td>319</td>\n",
              "      <td>70331</td>\n",
              "      <td>7810</td>\n",
              "      <td>84923</td>\n",
              "    </tr>\n",
              "    <tr>\n",
              "      <th>UNKNOWN</th>\n",
              "      <td>24</td>\n",
              "      <td>287</td>\n",
              "      <td>36</td>\n",
              "      <td>11</td>\n",
              "      <td>319</td>\n",
              "      <td>1970</td>\n",
              "      <td>2647</td>\n",
              "    </tr>\n",
              "    <tr>\n",
              "      <th>YES, TRANSGENDER</th>\n",
              "      <td>74</td>\n",
              "      <td>59</td>\n",
              "      <td>156</td>\n",
              "      <td>91</td>\n",
              "      <td>193</td>\n",
              "      <td>73</td>\n",
              "      <td>646</td>\n",
              "    </tr>\n",
              "    <tr>\n",
              "      <th rowspan=\"4\" valign=\"top\">UNKNOWN</th>\n",
              "      <th>CLIENT DIDN'T ANSWER</th>\n",
              "      <td>0</td>\n",
              "      <td>2</td>\n",
              "      <td>0</td>\n",
              "      <td>3</td>\n",
              "      <td>0</td>\n",
              "      <td>1</td>\n",
              "      <td>6</td>\n",
              "    </tr>\n",
              "    <tr>\n",
              "      <th>NO, NOT TRANSGENDER</th>\n",
              "      <td>0</td>\n",
              "      <td>0</td>\n",
              "      <td>4</td>\n",
              "      <td>0</td>\n",
              "      <td>31</td>\n",
              "      <td>7</td>\n",
              "      <td>42</td>\n",
              "    </tr>\n",
              "    <tr>\n",
              "      <th>UNKNOWN</th>\n",
              "      <td>0</td>\n",
              "      <td>1</td>\n",
              "      <td>1</td>\n",
              "      <td>0</td>\n",
              "      <td>1</td>\n",
              "      <td>323</td>\n",
              "      <td>326</td>\n",
              "    </tr>\n",
              "    <tr>\n",
              "      <th>YES, TRANSGENDER</th>\n",
              "      <td>0</td>\n",
              "      <td>0</td>\n",
              "      <td>0</td>\n",
              "      <td>0</td>\n",
              "      <td>2</td>\n",
              "      <td>0</td>\n",
              "      <td>2</td>\n",
              "    </tr>\n",
              "    <tr>\n",
              "      <th>All</th>\n",
              "      <th></th>\n",
              "      <td>4157</td>\n",
              "      <td>6185</td>\n",
              "      <td>5053</td>\n",
              "      <td>1087</td>\n",
              "      <td>145005</td>\n",
              "      <td>17609</td>\n",
              "      <td>179096</td>\n",
              "    </tr>\n",
              "  </tbody>\n",
              "</table>\n",
              "</div>"
            ],
            "text/plain": [
              "Sexual Orientation            BISEXUAL  CLIENT DID NOT ANSWER  ...  UNKNOWN     All\n",
              "Sex     Transgender                                            ...                 \n",
              "FEMALE  CLIENT DIDN'T ANSWER        18                    253  ...       40     456\n",
              "        NO, NOT TRANSGENDER       2981                   2000  ...     5436   86624\n",
              "        UNKNOWN                     22                     25  ...     1866    2222\n",
              "        YES, TRANSGENDER            74                     48  ...       51     620\n",
              "MALE    CLIENT DIDN'T ANSWER        13                    370  ...       32     582\n",
              "        NO, NOT TRANSGENDER        951                   3140  ...     7810   84923\n",
              "        UNKNOWN                     24                    287  ...     1970    2647\n",
              "        YES, TRANSGENDER            74                     59  ...       73     646\n",
              "UNKNOWN CLIENT DIDN'T ANSWER         0                      2  ...        1       6\n",
              "        NO, NOT TRANSGENDER          0                      0  ...        7      42\n",
              "        UNKNOWN                      0                      1  ...      323     326\n",
              "        YES, TRANSGENDER             0                      0  ...        0       2\n",
              "All                               4157                   6185  ...    17609  179096\n",
              "\n",
              "[13 rows x 7 columns]"
            ]
          },
          "metadata": {
            "tags": []
          },
          "execution_count": 127
        }
      ]
    },
    {
      "cell_type": "code",
      "metadata": {
        "id": "xGu3KN9Sq9NP",
        "colab_type": "code",
        "colab": {
          "base_uri": "https://localhost:8080/",
          "height": 52
        },
        "outputId": "7b8500d7-893c-48c0-d4d6-9378c780fd37"
      },
      "source": [
        "row_sums = contingency_table.iloc[0:12, 6].values\n",
        "col_sums = contingency_table.iloc[12, 0:6].values\n",
        "print(row_sums)\n",
        "print(col_sums)"
      ],
      "execution_count": 142,
      "outputs": [
        {
          "output_type": "stream",
          "text": [
            "[  456 86624  2222   620   582 84923  2647   646     6    42   326     2]\n",
            "[  4157   6185   5053   1087 145005  17609]\n"
          ],
          "name": "stdout"
        }
      ]
    },
    {
      "cell_type": "code",
      "metadata": {
        "id": "d8vLmaAttKOH",
        "colab_type": "code",
        "colab": {
          "base_uri": "https://localhost:8080/",
          "height": 69
        },
        "outputId": "838fbfba-ee9d-46b0-e5c8-8f86a6eb3bd0"
      },
      "source": [
        "total = contingency_table.loc[['All','All'],'All']\n",
        "print(total)"
      ],
      "execution_count": 146,
      "outputs": [
        {
          "output_type": "stream",
          "text": [
            "Sex  Transgender\n",
            "All                 179096\n",
            "Name: All, dtype: int64\n"
          ],
          "name": "stdout"
        }
      ]
    },
    {
      "cell_type": "code",
      "metadata": {
        "id": "tvLSimiBtLiL",
        "colab_type": "code",
        "colab": {
          "base_uri": "https://localhost:8080/",
          "height": 34
        },
        "outputId": "7c280ffd-65c9-4393-e702-b9b101de74a8"
      },
      "source": [
        "df.shape[0]"
      ],
      "execution_count": 144,
      "outputs": [
        {
          "output_type": "execute_result",
          "data": {
            "text/plain": [
              "179096"
            ]
          },
          "metadata": {
            "tags": []
          },
          "execution_count": 144
        }
      ]
    },
    {
      "cell_type": "code",
      "metadata": {
        "id": "qXIjlsk1tcts",
        "colab_type": "code",
        "colab": {
          "base_uri": "https://localhost:8080/",
          "height": 1000
        },
        "outputId": "70ca91bd-04ba-4f3f-f510-3b33c487b414"
      },
      "source": [
        "expected = []\n",
        "for i in range(len(row_sums)):\n",
        "  expected_row = []\n",
        "  for column in col_sums:\n",
        "    expected_val = column*row_sums[i]/total\n",
        "    expected_row.append(expected_val)\n",
        "  expected.append(expected_row)\n",
        "  \n",
        "\n",
        "expected = np.array(expected)\n",
        "print(expected.shape)  \n",
        "print(expected)"
      ],
      "execution_count": 147,
      "outputs": [
        {
          "output_type": "stream",
          "text": [
            "(12, 6, 1)\n",
            "[[[1.05842230e+01]\n",
            "  [1.57477554e+01]\n",
            "  [1.28655470e+01]\n",
            "  [2.76763300e+00]\n",
            "  [3.69200205e+02]\n",
            "  [4.48346362e+01]]\n",
            "\n",
            " [[2.01063099e+03]\n",
            "  [2.99152097e+03]\n",
            "  [2.44400250e+03]\n",
            "  [5.25753160e+02]\n",
            "  [7.01350846e+04]\n",
            "  [8.51700773e+03]]\n",
            "\n",
            " [[5.15748760e+01]\n",
            "  [7.67357730e+01]\n",
            "  [6.26913276e+01]\n",
            "  [1.34861415e+01]\n",
            "  [1.79904135e+03]\n",
            "  [2.18470530e+02]]\n",
            "\n",
            " [[1.43908295e+01]\n",
            "  [2.14114218e+01]\n",
            "  [1.74926297e+01]\n",
            "  [3.76300978e+00]\n",
            "  [5.01982736e+02]\n",
            "  [6.09593737e+01]]\n",
            "\n",
            " [[1.35088109e+01]\n",
            "  [2.00991089e+01]\n",
            "  [1.64205007e+01]\n",
            "  [3.53237370e+00]\n",
            "  [4.71216052e+02]\n",
            "  [5.72231541e+01]]\n",
            "\n",
            " [[1.97114905e+03]\n",
            "  [2.93277770e+03]\n",
            "  [2.39601063e+03]\n",
            "  [5.15429161e+02]\n",
            "  [6.87578707e+04]\n",
            "  [8.34976274e+03]]\n",
            "\n",
            " [[6.14395576e+01]\n",
            "  [9.14129573e+01]\n",
            "  [7.46822430e+01]\n",
            "  [1.60656240e+01]\n",
            "  [2.14314242e+03]\n",
            "  [2.60257197e+02]]\n",
            "\n",
            " [[1.49943159e+01]\n",
            "  [2.23093201e+01]\n",
            "  [1.82261915e+01]\n",
            "  [3.92081342e+00]\n",
            "  [5.23033624e+02]\n",
            "  [6.35157346e+01]]\n",
            "\n",
            " [[1.39266092e-01]\n",
            "  [2.07207308e-01]\n",
            "  [1.69283513e-01]\n",
            "  [3.64162237e-02]\n",
            "  [4.85789744e+00]\n",
            "  [5.89929423e-01]]\n",
            "\n",
            " [[9.74862643e-01]\n",
            "  [1.45045115e+00]\n",
            "  [1.18498459e+00]\n",
            "  [2.54913566e-01]\n",
            "  [3.40052821e+01]\n",
            "  [4.12950596e+00]]\n",
            "\n",
            " [[7.56679099e+00]\n",
            "  [1.12582637e+01]\n",
            "  [9.19773753e+00]\n",
            "  [1.97861482e+00]\n",
            "  [2.63945761e+02]\n",
            "  [3.20528320e+01]]\n",
            "\n",
            " [[4.64220306e-02]\n",
            "  [6.90691026e-02]\n",
            "  [5.64278376e-02]\n",
            "  [1.21387412e-02]\n",
            "  [1.61929915e+00]\n",
            "  [1.96643141e-01]]]\n"
          ],
          "name": "stdout"
        }
      ]
    },
    {
      "cell_type": "code",
      "metadata": {
        "id": "C1XqXMRZtm3b",
        "colab_type": "code",
        "colab": {
          "base_uri": "https://localhost:8080/",
          "height": 243
        },
        "outputId": "b3ed5116-6268-412f-9391-605cab1b53f0"
      },
      "source": [
        "observed = pd.crosstab([df['Sex'], df['Transgender']], df['Sexual Orientation']).values\n",
        "print(observed.shape)\n",
        "observed"
      ],
      "execution_count": 148,
      "outputs": [
        {
          "output_type": "stream",
          "text": [
            "(12, 6)\n"
          ],
          "name": "stdout"
        },
        {
          "output_type": "execute_result",
          "data": {
            "text/plain": [
              "array([[   18,   253,    17,    10,   118,    40],\n",
              "       [ 2981,  2000,  2287,   525, 73395,  5436],\n",
              "       [   22,    25,    46,    18,   245,  1866],\n",
              "       [   74,    48,   119,   102,   226,    51],\n",
              "       [   13,   370,    15,     8,   144,    32],\n",
              "       [  951,  3140,  2372,   319, 70331,  7810],\n",
              "       [   24,   287,    36,    11,   319,  1970],\n",
              "       [   74,    59,   156,    91,   193,    73],\n",
              "       [    0,     2,     0,     3,     0,     1],\n",
              "       [    0,     0,     4,     0,    31,     7],\n",
              "       [    0,     1,     1,     0,     1,   323],\n",
              "       [    0,     0,     0,     0,     2,     0]])"
            ]
          },
          "metadata": {
            "tags": []
          },
          "execution_count": 148
        }
      ]
    },
    {
      "cell_type": "code",
      "metadata": {
        "id": "uyQeuycXt4-5",
        "colab_type": "code",
        "colab": {
          "base_uri": "https://localhost:8080/",
          "height": 185
        },
        "outputId": "8b50999c-64e5-490b-9fd3-d9358773ba65"
      },
      "source": [
        "chi_sqr = ((observed - expected)**2/(expected)).sum()\n",
        "print(\"Chi Sqaured\", chi_sqr)"
      ],
      "execution_count": 149,
      "outputs": [
        {
          "output_type": "error",
          "ename": "ValueError",
          "evalue": "ignored",
          "traceback": [
            "\u001b[0;31m---------------------------------------------------------------------------\u001b[0m",
            "\u001b[0;31mValueError\u001b[0m                                Traceback (most recent call last)",
            "\u001b[0;32m<ipython-input-149-d8cc7763a609>\u001b[0m in \u001b[0;36m<module>\u001b[0;34m()\u001b[0m\n\u001b[0;32m----> 1\u001b[0;31m \u001b[0mchi_sqr\u001b[0m \u001b[0;34m=\u001b[0m \u001b[0;34m(\u001b[0m\u001b[0;34m(\u001b[0m\u001b[0mobserved\u001b[0m \u001b[0;34m-\u001b[0m \u001b[0mexpected\u001b[0m\u001b[0;34m)\u001b[0m\u001b[0;34m**\u001b[0m\u001b[0;36m2\u001b[0m\u001b[0;34m/\u001b[0m\u001b[0;34m(\u001b[0m\u001b[0mexpected\u001b[0m\u001b[0;34m)\u001b[0m\u001b[0;34m)\u001b[0m\u001b[0;34m.\u001b[0m\u001b[0msum\u001b[0m\u001b[0;34m(\u001b[0m\u001b[0;34m)\u001b[0m\u001b[0;34m\u001b[0m\u001b[0;34m\u001b[0m\u001b[0m\n\u001b[0m\u001b[1;32m      2\u001b[0m \u001b[0mprint\u001b[0m\u001b[0;34m(\u001b[0m\u001b[0;34m\"Chi Sqaured\"\u001b[0m\u001b[0;34m,\u001b[0m \u001b[0mchi_sqr\u001b[0m\u001b[0;34m)\u001b[0m\u001b[0;34m\u001b[0m\u001b[0;34m\u001b[0m\u001b[0m\n",
            "\u001b[0;31mValueError\u001b[0m: operands could not be broadcast together with shapes (12,6) (12,6,1) "
          ]
        }
      ]
    },
    {
      "cell_type": "markdown",
      "metadata": {
        "id": "4ohsJhQUmEuS",
        "colab_type": "text"
      },
      "source": [
        "## Stretch goals:\n",
        "\n",
        "1. Write a summary of your findings, mixing prose and math/code/results. *Note* - yes, this is by definition a political topic. It is challenging but important to keep your writing voice *neutral* and stick to the facts of the data. Data science often involves considering controversial issues, so it's important to be sensitive about them (especially if you want to publish).\n",
        "2. Apply the techniques you learned today to your project data or other data of your choice, and write/discuss your findings here.\n",
        "3. Refactor your code so it is elegant, readable, and can be easily run for all issues."
      ]
    },
    {
      "cell_type": "markdown",
      "metadata": {
        "id": "nyJ3ySr7R2k9",
        "colab_type": "text"
      },
      "source": [
        "## Resources\n",
        "\n",
        "- [Interactive visualize the Chi-Squared test](https://homepage.divms.uiowa.edu/~mbognar/applets/chisq.html)\n",
        "- [Calculation of Chi-Squared test statistic](https://en.wikipedia.org/wiki/Pearson%27s_chi-squared_test)\n",
        "- [Visualization of a confidence interval generated by R code](https://commons.wikimedia.org/wiki/File:Confidence-interval.svg)\n",
        "- [Expected value of a squared standard normal](https://math.stackexchange.com/questions/264061/expected-value-calculation-for-squared-normal-distribution) (it's 1 - which is why the expected value of a Chi-Squared with $n$ degrees of freedom is $n$, as it's the sum of $n$ squared standard normals)"
      ]
    }
  ]
}