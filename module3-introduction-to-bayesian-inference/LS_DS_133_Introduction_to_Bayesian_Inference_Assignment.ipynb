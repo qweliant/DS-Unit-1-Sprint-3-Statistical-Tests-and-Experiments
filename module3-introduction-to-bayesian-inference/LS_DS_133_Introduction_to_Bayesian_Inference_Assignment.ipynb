{
  "nbformat": 4,
  "nbformat_minor": 0,
  "metadata": {
    "colab": {
      "name": "LS_DS_133_Introduction_to_Bayesian_Inference_Assignment.ipynb",
      "provenance": [],
      "include_colab_link": true
    },
    "kernelspec": {
      "name": "python3",
      "display_name": "Python 3"
    }
  },
  "cells": [
    {
      "cell_type": "markdown",
      "metadata": {
        "id": "view-in-github",
        "colab_type": "text"
      },
      "source": [
        "<a href=\"https://colab.research.google.com/github/qweliant/DS-Unit-1-Sprint-3-Statistical-Tests-and-Experiments/blob/master/module3-introduction-to-bayesian-inference/LS_DS_133_Introduction_to_Bayesian_Inference_Assignment.ipynb\" target=\"_parent\"><img src=\"https://colab.research.google.com/assets/colab-badge.svg\" alt=\"Open In Colab\"/></a>"
      ]
    },
    {
      "cell_type": "markdown",
      "metadata": {
        "id": "H7OLbevlbd_Z",
        "colab_type": "text"
      },
      "source": [
        "# Lambda School Data Science Module 133\n",
        "\n",
        "## Introduction to Bayesian Inference\n",
        "\n",
        "\n"
      ]
    },
    {
      "cell_type": "markdown",
      "metadata": {
        "id": "P-DzzRk5bf0z",
        "colab_type": "text"
      },
      "source": [
        "## Assignment - Code it up!\n",
        "\n",
        "Most of the above was pure math - now write Python code to reproduce the results! This is purposefully open ended - you'll have to think about how you should represent probabilities and events. You can and should look things up, and as a stretch goal - refactor your code into helpful reusable functions!\n",
        "\n",
        "Specific goals/targets:\n",
        "\n",
        "1. Write a function `def prob_drunk_given_positive(prob_drunk_prior, prob_positive, prob_positive_drunk)` that reproduces the example from lecture, and use it to calculate and visualize a range of situations\n",
        "2. Explore `scipy.stats.bayes_mvs` - read its documentation, and experiment with it on data you've tested in other ways earlier this week\n",
        "3. Create a visualization comparing the results of a Bayesian approach to a traditional/frequentist approach\n",
        "4. In your own words, summarize the difference between Bayesian and Frequentist statistics\n",
        "\n",
        "If you're unsure where to start, check out [this blog post of Bayes theorem with Python](https://dataconomy.com/2015/02/introduction-to-bayes-theorem-with-python/) - you could and should create something similar!\n",
        "\n",
        "Stretch goals:\n",
        "\n",
        "- Apply a Bayesian technique to a problem you previously worked (in an assignment or project work) on from a frequentist (standard) perspective\n",
        "- Check out [PyMC3](https://docs.pymc.io/) (note this goes beyond hypothesis tests into modeling) - read the guides and work through some examples\n",
        "- Take PyMC3 further - see if you can build something with it!"
      ]
    },
    {
      "cell_type": "code",
      "metadata": {
        "id": "xpVhZyUnbf7o",
        "colab_type": "code",
        "colab": {}
      },
      "source": [
        "# TODO - code!\n",
        "import numpy as np\n",
        "import pandas as pd\n",
        "import matplotlib.pyplot as plt\n",
        "from scipy import stats"
      ],
      "execution_count": 0,
      "outputs": []
    },
    {
      "cell_type": "code",
      "metadata": {
        "id": "CtzPb8kN7KMo",
        "colab_type": "code",
        "colab": {}
      },
      "source": [
        "# prob_after_two_positive_test_res = (.99*332)/((.99*.332)+(.01*.688))\n",
        "\n",
        "# numerator\n",
        "# prob_posi_drunk = P(B|A)\n",
        "# prob_drunk_prior = P(A)\n",
        "\n",
        "# denominator\n",
        "# prob_posi_drunk = P(B|A)\n",
        "# prob_drunk_prior = P(A)\n",
        "# prob_positive = P(B|prior)\n",
        "# 1-prob_drunk_prior = P(new prior)\n",
        "\n",
        "def prob_drunk_given_positive(prob_drunk_prior, prob_positive=0.08,prob_positive_drunk=1.0):\n",
        "\treturn(prob_positive_drunk * prob_drunk_prior / (prob_positive_drunk*prob_drunk_prior + prob_positive*(1-prob_drunk_prior)))"
      ],
      "execution_count": 0,
      "outputs": []
    },
    {
      "cell_type": "code",
      "metadata": {
        "id": "FwLTQg1MALDu",
        "colab_type": "code",
        "colab": {
          "base_uri": "https://localhost:8080/",
          "height": 469
        },
        "outputId": "e848edeb-6287-4166-d2db-8c167cd22cd8"
      },
      "source": [
        "bayesian_probability = []\n",
        "prob = 0.001\n",
        "for i in range(0, 26):\n",
        "    prob =  prob_drunk_given_positive(prob_drunk_prior=prob)\n",
        "    bayesian_probability.append(prob)\n",
        "    print(\"Bayesian Probability is:\", prob)\n"
      ],
      "execution_count": 35,
      "outputs": [
        {
          "output_type": "stream",
          "text": [
            "Bayesian Probability is: 0.012357884330202669\n",
            "Bayesian Probability is: 0.13525210993291495\n",
            "Bayesian Probability is: 0.6615996951348605\n",
            "Bayesian Probability is: 0.9606895076105054\n",
            "Bayesian Probability is: 0.9967371577896734\n",
            "Bayesian Probability is: 0.9997381867081508\n",
            "Bayesian Probability is: 0.9999790498904363\n",
            "Bayesian Probability is: 0.9999983239589307\n",
            "Bayesian Probability is: 0.9999998659165077\n",
            "Bayesian Probability is: 0.9999999892733192\n",
            "Bayesian Probability is: 0.9999999991418655\n",
            "Bayesian Probability is: 0.9999999999313492\n",
            "Bayesian Probability is: 0.999999999994508\n",
            "Bayesian Probability is: 0.9999999999995607\n",
            "Bayesian Probability is: 0.9999999999999648\n",
            "Bayesian Probability is: 0.9999999999999972\n",
            "Bayesian Probability is: 0.9999999999999998\n",
            "Bayesian Probability is: 1.0\n",
            "Bayesian Probability is: 1.0\n",
            "Bayesian Probability is: 1.0\n",
            "Bayesian Probability is: 1.0\n",
            "Bayesian Probability is: 1.0\n",
            "Bayesian Probability is: 1.0\n",
            "Bayesian Probability is: 1.0\n",
            "Bayesian Probability is: 1.0\n",
            "Bayesian Probability is: 1.0\n"
          ],
          "name": "stdout"
        }
      ]
    },
    {
      "cell_type": "code",
      "metadata": {
        "id": "cDzgJbOZBn7Z",
        "colab_type": "code",
        "colab": {
          "base_uri": "https://localhost:8080/",
          "height": 469
        },
        "outputId": "2262bd24-dbe1-437e-bc4d-3f86d73f92a8"
      },
      "source": [
        "frequntist_probability = []\n",
        "for i in range(0, 26):\n",
        "    freq = ( ( 1-0.08 ** i ) *  .999 + 0.001  )\n",
        "    frequntist_probability.append( freq )\n",
        "    print(freq)"
      ],
      "execution_count": 33,
      "outputs": [
        {
          "output_type": "stream",
          "text": [
            "0.001\n",
            "0.92008\n",
            "0.9936064\n",
            "0.999488512\n",
            "0.99995908096\n",
            "0.9999967264768\n",
            "0.999999738118144\n",
            "0.9999999790494516\n",
            "0.9999999983239561\n",
            "0.9999999998659165\n",
            "0.9999999999892734\n",
            "0.9999999999991419\n",
            "0.9999999999999314\n",
            "0.9999999999999944\n",
            "0.9999999999999996\n",
            "1.0\n",
            "1.0\n",
            "1.0\n",
            "1.0\n",
            "1.0\n",
            "1.0\n",
            "1.0\n",
            "1.0\n",
            "1.0\n",
            "1.0\n",
            "1.0\n"
          ],
          "name": "stdout"
        }
      ]
    },
    {
      "cell_type": "code",
      "metadata": {
        "id": "YoWi47kn_kMR",
        "colab_type": "code",
        "colab": {
          "base_uri": "https://localhost:8080/",
          "height": 295
        },
        "outputId": "a526266d-57af-438b-e6a9-dba51bac4ed5"
      },
      "source": [
        "plt.plot(bayesian_probability, color='#f6d55c')\n",
        "plt.plot(frequntist_probability, color='#ed5538')\n",
        "\n",
        "plt.xlabel('Number of Test')\n",
        "plt.ylabel('Probability of Drunk')\n",
        "plt.title('Probability a Driver is Drunk After Positive Test Result')\n",
        "plt.legend(['Bayesian','Frequentist'])\n",
        "\n",
        "plt.show()"
      ],
      "execution_count": 50,
      "outputs": [
        {
          "output_type": "display_data",
          "data": {
            "image/png": "[encoded data removed]",
            "text/plain": [
              "<Figure size 432x288 with 1 Axes>"
            ]
          },
          "metadata": {
            "tags": []
          }
        }
      ]
    },
    {
      "cell_type": "markdown",
      "metadata": {
        "id": "aXcirFGEEwpM",
        "colab_type": "text"
      },
      "source": [
        "Compared to a frequentist approach, a bayesian approach needs more test\n"
      ]
    },
    {
      "cell_type": "markdown",
      "metadata": {
        "id": "uWgWjp3PQ3Sq",
        "colab_type": "text"
      },
      "source": [
        "## Resources"
      ]
    },
    {
      "cell_type": "markdown",
      "metadata": {
        "id": "QRgHqmYIQ9qn",
        "colab_type": "text"
      },
      "source": [
        "- [Worked example of Bayes rule calculation](https://en.wikipedia.org/wiki/Bayes'_theorem#Examples) (helpful as it fully breaks out the denominator)\n",
        "- [Source code for mvsdist in scipy](https://github.com/scipy/scipy/blob/90534919e139d2a81c24bf08341734ff41a3db12/scipy/stats/morestats.py#L139)"
      ]
    }
  ]
}